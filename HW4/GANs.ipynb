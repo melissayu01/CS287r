{
 "cells": [
  {
   "cell_type": "markdown",
   "metadata": {},
   "source": [
    "# HW 4: Variational Autoencoders"
   ]
  },
  {
   "cell_type": "markdown",
   "metadata": {},
   "source": [
    "In this homework you will build a deep generative model of binary images (MNIST) using variational autoencoders and generative adversarial networks.\n",
    "The original VAE paper can be found [here](https://arxiv.org/abs/1312.6114) and GANs [here](https://arxiv.org/abs/1406.2661), and there are many excellent tutorials\n",
    "online, e.g. [here](https://arxiv.org/abs/1606.05908) and [here](https://jaan.io/what-is-variational-autoencoder-vae-tutorial/)\n",
    "\n",
    "**For this homework there will not be a Kaggle submission**\n",
    "\n",
    "## Goals\n",
    "\n",
    "\n",
    "1. Build a discrete deep generative model of binary digits (MNIST) using variational autoencoders\n",
    "2. Examine the learned latent space with visualizations \n",
    "3. Build a continuous deep generative model using generative adversarial networks.\n",
    "4. Additionally extend the above in any way, for example by :\n",
    "    - using better encoder/decoders (e.g. CNN as the encoder, PixelCNN as the decoder. Description of PixelCNN \n",
    "    can be found [here](https://arxiv.org/abs/1601.06759))\n",
    "    - using different variational families, e.g. with [normalizing flows](https://arxiv.org/abs/1505.05770), \n",
    "    [inverse autoregressive flows](https://arxiv.org/pdf/1606.04934.pdf), \n",
    "    [hierarchical models](https://arxiv.org/pdf/1602.02282.pdf)\n",
    "    - comparing with stochastic variational inference (i.e. where your variational parameters are randomly initialized and\n",
    "    then updated with gradient ascent on the ELBO\n",
    "    - or your own extension.\n",
    "\n",
    "For your encoder/decoder, we suggest starting off with simple models (e.g. 2-layer MLP with ReLUs).\n",
    "\n",
    "Consult the papers provided for hyperparameters, and the course notes for formal definitions.\n"
   ]
  },
  {
   "cell_type": "markdown",
   "metadata": {},
   "source": [
    "## Setup\n",
    "\n",
    "This notebook provides a working definition of the setup of the problem itself. Feel free to construct your models inline, or use an external setup (preferred) to build your system."
   ]
  },
  {
   "cell_type": "markdown",
   "metadata": {},
   "source": [
    "First, as always, let's download the data."
   ]
  },
  {
   "cell_type": "code",
   "execution_count": 1,
   "metadata": {
    "collapsed": false
   },
   "outputs": [],
   "source": [
    "import torch\n",
    "import torchvision.datasets as datasets\n",
    "import torchvision.transforms as transforms\n",
    "\n",
    "# The output of torchvision datasets are PILImage images of range [0, 1].\n",
    "# We transform them to Tensors of normalized range [-1, 1]\n",
    "transform = transforms.Compose([\n",
    "        transforms.ToTensor(),\n",
    "        transforms.Normalize(\n",
    "            mean=(0.5, 0.5, 0.5), std=(0.5, 0.5, 0.5))\n",
    "    ])\n",
    "\n",
    "train_dataset = datasets.MNIST(root='./data/',\n",
    "                            train=True, \n",
    "                            transform=transform,\n",
    "                            download=True)\n",
    "test_dataset = datasets.MNIST(root='./data/',\n",
    "                           train=False, \n",
    "                           transform=transform)"
   ]
  },
  {
   "cell_type": "code",
   "execution_count": 2,
   "metadata": {
    "collapsed": false
   },
   "outputs": [
    {
     "name": "stdout",
     "output_type": "stream",
     "text": [
      "60000\n",
      "10000\n"
     ]
    }
   ],
   "source": [
    "print(len(train_dataset))\n",
    "print(len(test_dataset))"
   ]
  },
  {
   "cell_type": "markdown",
   "metadata": {},
   "source": [
    "By default MNIST gives grayscale values between [0,1]. Since we are modeling binary images, we have to turn these\n",
    "into binary values, i.e. $\\{0,1\\}^{784}$). A standard way to do this is to interpret the grayscale values as \n",
    "probabilities and sample Bernoulli random vectors based on these probabilities. (Note you should not do this for GANs)\n"
   ]
  },
  {
   "cell_type": "code",
   "execution_count": 3,
   "metadata": {
    "collapsed": false
   },
   "outputs": [
    {
     "name": "stdout",
     "output_type": "stream",
     "text": [
      "torch.Size([60000, 1, 28, 28]) torch.Size([60000]) torch.Size([10000, 1, 28, 28]) torch.Size([10000])\n"
     ]
    }
   ],
   "source": [
    "torch.manual_seed(3435)\n",
    "train_img = torch.stack([d[0] for d in train_dataset])\n",
    "train_label = torch.LongTensor([d[1] for d in train_dataset])\n",
    "test_img = torch.stack([d[0] for d in test_dataset])\n",
    "test_label = torch.LongTensor([d[1] for d in test_dataset])\n",
    "print(train_img.size(), train_label.size(), test_img.size(), test_label.size())"
   ]
  },
  {
   "cell_type": "markdown",
   "metadata": {},
   "source": [
    "MNIST does not have an official train dataset. So we will use the last 10000 training points as your validation set."
   ]
  },
  {
   "cell_type": "code",
   "execution_count": 4,
   "metadata": {
    "collapsed": true
   },
   "outputs": [],
   "source": [
    "val_img = train_img[-10000:].clone()\n",
    "val_label = train_label[-10000:].clone()\n",
    "train_img = train_img[:-10000]\n",
    "train_label = train_label[:-10000]"
   ]
  },
  {
   "cell_type": "markdown",
   "metadata": {},
   "source": [
    "Now we use the dataloader to split into batches."
   ]
  },
  {
   "cell_type": "code",
   "execution_count": 5,
   "metadata": {
    "collapsed": true
   },
   "outputs": [],
   "source": [
    "train = torch.utils.data.TensorDataset(train_img, train_label)\n",
    "val = torch.utils.data.TensorDataset(val_img, val_label)\n",
    "test = torch.utils.data.TensorDataset(test_img, test_label)\n",
    "\n",
    "BATCH_SIZE = 100\n",
    "train_loader = torch.utils.data.DataLoader(train, batch_size=BATCH_SIZE, shuffle=True)\n",
    "val_loader = torch.utils.data.DataLoader(val, batch_size=BATCH_SIZE, shuffle=True)\n",
    "test_loader = torch.utils.data.DataLoader(test, batch_size=BATCH_SIZE, shuffle=True)"
   ]
  },
  {
   "cell_type": "code",
   "execution_count": 6,
   "metadata": {
    "collapsed": false
   },
   "outputs": [],
   "source": [
    "import torch.nn as nn\n",
    "import torch.nn.functional as F\n",
    "from torch.autograd import Variable\n",
    "from torch import optim\n",
    "from torchvision.utils import save_image\n",
    "\n",
    "USE_CUDA = torch.cuda.is_available()"
   ]
  },
  {
   "cell_type": "code",
   "execution_count": 7,
   "metadata": {
    "collapsed": true
   },
   "outputs": [],
   "source": [
    "def to_var(x):\n",
    "    if USE_CUDA:\n",
    "        x = x.cuda()\n",
    "    return Variable(x)\n",
    "\n",
    "def denorm(x):\n",
    "    out = (x + 1) / 2\n",
    "    return out.clamp(0, 1)"
   ]
  },
  {
   "cell_type": "code",
   "execution_count": 37,
   "metadata": {
    "collapsed": true
   },
   "outputs": [],
   "source": [
    "LATENT_SIZE = 64\n",
    "H_DIM = 256\n",
    "OUT_DIM = 784\n",
    "\n",
    "# Discriminator\n",
    "_D = nn.Sequential(\n",
    "    nn.Linear(OUT_DIM, H_DIM),\n",
    "    nn.LeakyReLU(0.2),\n",
    "    nn.Linear(H_DIM, H_DIM),\n",
    "    nn.LeakyReLU(0.2),\n",
    ")\n",
    "\n",
    "Dz = nn.Sequential(\n",
    "    _D,\n",
    "    nn.Linear(H_DIM, 1),\n",
    "    nn.Sigmoid()\n",
    ")\n",
    "\n",
    "Dy = nn.Sequential(\n",
    "    _D,\n",
    "    nn.Linear(H_DIM, 10),\n",
    ")\n",
    "\n",
    "# Generator \n",
    "G = nn.Sequential(\n",
    "    nn.Linear(LATENT_SIZE, H_DIM),\n",
    "    nn.LeakyReLU(0.2),\n",
    "    nn.Linear(H_DIM, H_DIM),\n",
    "    nn.LeakyReLU(0.2),\n",
    "    nn.Linear(H_DIM, OUT_DIM),\n",
    "    nn.Tanh()\n",
    ")\n",
    "\n",
    "if USE_CUDA:\n",
    "    D.cuda()\n",
    "    G.cuda()"
   ]
  },
  {
   "cell_type": "code",
   "execution_count": 38,
   "metadata": {
    "collapsed": false
   },
   "outputs": [],
   "source": [
    "criterion_z = nn.BCELoss() # binary classification\n",
    "criterion_y = nn.CrossEntropyLoss() # digit classification\n",
    "d_optimizer = torch.optim.Adam(\n",
    "    set(Dz.parameters()).union(set(Dy.parameters())), \n",
    "    lr=0.0003)\n",
    "g_optimizer = torch.optim.Adam(G.parameters(), lr=0.0003)"
   ]
  },
  {
   "cell_type": "code",
   "execution_count": 41,
   "metadata": {
    "collapsed": false
   },
   "outputs": [
    {
     "name": "stdout",
     "output_type": "stream",
     "text": [
      "Epoch [0/200], Step[100/600], class_loss: 0.0010, d_loss: 0.7989, g_loss: 1.8391, D(x): 0.71, D(G(z)): 0.23\n",
      "Epoch [0/200], Step[200/600], class_loss: 0.0175, d_loss: 0.7396, g_loss: 2.0045, D(x): 0.78, D(G(z)): 0.26\n",
      "Epoch [0/200], Step[300/600], class_loss: 0.0010, d_loss: 0.8119, g_loss: 1.9115, D(x): 0.77, D(G(z)): 0.29\n",
      "Epoch [0/200], Step[400/600], class_loss: 0.0016, d_loss: 0.7518, g_loss: 1.6935, D(x): 0.72, D(G(z)): 0.20\n",
      "Epoch [0/200], Step[500/600], class_loss: 0.0299, d_loss: 0.9119, g_loss: 1.5215, D(x): 0.84, D(G(z)): 0.35\n",
      "Epoch [1/200], Step[100/600], class_loss: 0.0042, d_loss: 0.6506, g_loss: 2.0551, D(x): 0.77, D(G(z)): 0.21\n",
      "Epoch [1/200], Step[200/600], class_loss: 0.0008, d_loss: 0.7460, g_loss: 2.0849, D(x): 0.77, D(G(z)): 0.28\n",
      "Epoch [1/200], Step[300/600], class_loss: 0.0012, d_loss: 0.8240, g_loss: 1.8011, D(x): 0.75, D(G(z)): 0.27\n",
      "Epoch [1/200], Step[400/600], class_loss: 0.0123, d_loss: 0.8404, g_loss: 1.9831, D(x): 0.77, D(G(z)): 0.30\n",
      "Epoch [1/200], Step[500/600], class_loss: 0.0041, d_loss: 0.7420, g_loss: 1.8632, D(x): 0.77, D(G(z)): 0.28\n",
      "Epoch [2/200], Step[100/600], class_loss: 0.0004, d_loss: 0.7547, g_loss: 2.4147, D(x): 0.77, D(G(z)): 0.24\n",
      "Epoch [2/200], Step[200/600], class_loss: 0.0003, d_loss: 0.8892, g_loss: 2.5607, D(x): 0.74, D(G(z)): 0.26\n",
      "Epoch [2/200], Step[300/600], class_loss: 0.0008, d_loss: 0.8412, g_loss: 1.5176, D(x): 0.80, D(G(z)): 0.33\n",
      "Epoch [2/200], Step[400/600], class_loss: 0.0313, d_loss: 0.8620, g_loss: 2.0879, D(x): 0.79, D(G(z)): 0.34\n",
      "Epoch [2/200], Step[500/600], class_loss: 0.0015, d_loss: 0.7861, g_loss: 2.0323, D(x): 0.73, D(G(z)): 0.24\n",
      "Epoch [3/200], Step[100/600], class_loss: 0.0274, d_loss: 0.7948, g_loss: 1.8586, D(x): 0.78, D(G(z)): 0.28\n",
      "Epoch [3/200], Step[200/600], class_loss: 0.0002, d_loss: 0.6676, g_loss: 2.2896, D(x): 0.77, D(G(z)): 0.24\n",
      "Epoch [3/200], Step[300/600], class_loss: 0.0027, d_loss: 0.6158, g_loss: 1.9881, D(x): 0.74, D(G(z)): 0.19\n",
      "Epoch [3/200], Step[400/600], class_loss: 0.0188, d_loss: 0.7979, g_loss: 2.4568, D(x): 0.69, D(G(z)): 0.18\n",
      "Epoch [3/200], Step[500/600], class_loss: 0.0011, d_loss: 0.8613, g_loss: 2.0862, D(x): 0.69, D(G(z)): 0.23\n",
      "Epoch [4/200], Step[100/600], class_loss: 0.0003, d_loss: 0.7638, g_loss: 1.9036, D(x): 0.74, D(G(z)): 0.26\n",
      "Epoch [4/200], Step[200/600], class_loss: 0.0020, d_loss: 0.7056, g_loss: 2.3700, D(x): 0.76, D(G(z)): 0.23\n",
      "Epoch [4/200], Step[300/600], class_loss: 0.0006, d_loss: 0.7891, g_loss: 2.0849, D(x): 0.71, D(G(z)): 0.21\n",
      "Epoch [4/200], Step[400/600], class_loss: 0.0003, d_loss: 0.8615, g_loss: 1.9455, D(x): 0.76, D(G(z)): 0.30\n",
      "Epoch [4/200], Step[500/600], class_loss: 0.0056, d_loss: 0.8799, g_loss: 2.0903, D(x): 0.70, D(G(z)): 0.22\n",
      "Epoch [5/200], Step[100/600], class_loss: 0.0002, d_loss: 0.8348, g_loss: 2.3674, D(x): 0.75, D(G(z)): 0.29\n",
      "Epoch [5/200], Step[200/600], class_loss: 0.0006, d_loss: 0.7145, g_loss: 1.7406, D(x): 0.73, D(G(z)): 0.20\n",
      "Epoch [5/200], Step[300/600], class_loss: 0.0016, d_loss: 0.8868, g_loss: 1.7366, D(x): 0.78, D(G(z)): 0.31\n",
      "Epoch [5/200], Step[400/600], class_loss: 0.0010, d_loss: 0.6679, g_loss: 2.1177, D(x): 0.76, D(G(z)): 0.20\n",
      "Epoch [5/200], Step[500/600], class_loss: 0.0002, d_loss: 0.7893, g_loss: 1.7735, D(x): 0.73, D(G(z)): 0.25\n",
      "Epoch [6/200], Step[100/600], class_loss: 0.0004, d_loss: 0.8285, g_loss: 1.5653, D(x): 0.77, D(G(z)): 0.31\n",
      "Epoch [6/200], Step[200/600], class_loss: 0.0014, d_loss: 0.7792, g_loss: 2.3719, D(x): 0.72, D(G(z)): 0.23\n",
      "Epoch [6/200], Step[300/600], class_loss: 0.0020, d_loss: 0.7829, g_loss: 1.9969, D(x): 0.69, D(G(z)): 0.17\n",
      "Epoch [6/200], Step[400/600], class_loss: 0.0004, d_loss: 0.7889, g_loss: 1.6713, D(x): 0.78, D(G(z)): 0.29\n",
      "Epoch [6/200], Step[500/600], class_loss: 0.0003, d_loss: 0.7844, g_loss: 1.2554, D(x): 0.75, D(G(z)): 0.27\n",
      "Epoch [7/200], Step[100/600], class_loss: 0.0003, d_loss: 0.7614, g_loss: 2.2741, D(x): 0.77, D(G(z)): 0.27\n",
      "Epoch [7/200], Step[200/600], class_loss: 0.0037, d_loss: 0.9002, g_loss: 2.1912, D(x): 0.69, D(G(z)): 0.21\n",
      "Epoch [7/200], Step[300/600], class_loss: 0.0109, d_loss: 0.6687, g_loss: 1.9409, D(x): 0.76, D(G(z)): 0.21\n",
      "Epoch [7/200], Step[400/600], class_loss: 0.0011, d_loss: 0.8271, g_loss: 2.0469, D(x): 0.83, D(G(z)): 0.35\n",
      "Epoch [7/200], Step[500/600], class_loss: 0.0012, d_loss: 0.8483, g_loss: 2.3813, D(x): 0.63, D(G(z)): 0.13\n",
      "Epoch [8/200], Step[100/600], class_loss: 0.0011, d_loss: 0.8951, g_loss: 1.9419, D(x): 0.71, D(G(z)): 0.27\n",
      "Epoch [8/200], Step[200/600], class_loss: 0.0049, d_loss: 0.8452, g_loss: 2.0644, D(x): 0.77, D(G(z)): 0.32\n",
      "Epoch [8/200], Step[300/600], class_loss: 0.0200, d_loss: 0.7376, g_loss: 1.9418, D(x): 0.77, D(G(z)): 0.25\n",
      "Epoch [8/200], Step[400/600], class_loss: 0.0005, d_loss: 0.7278, g_loss: 2.2996, D(x): 0.72, D(G(z)): 0.19\n",
      "Epoch [8/200], Step[500/600], class_loss: 0.0002, d_loss: 0.8643, g_loss: 2.3590, D(x): 0.68, D(G(z)): 0.20\n",
      "Epoch [9/200], Step[100/600], class_loss: 0.0021, d_loss: 0.7146, g_loss: 2.0037, D(x): 0.73, D(G(z)): 0.22\n",
      "Epoch [9/200], Step[200/600], class_loss: 0.0002, d_loss: 0.6924, g_loss: 1.8141, D(x): 0.85, D(G(z)): 0.31\n",
      "Epoch [9/200], Step[300/600], class_loss: 0.0004, d_loss: 0.7380, g_loss: 1.8467, D(x): 0.79, D(G(z)): 0.29\n",
      "Epoch [9/200], Step[400/600], class_loss: 0.0032, d_loss: 0.7249, g_loss: 1.5324, D(x): 0.83, D(G(z)): 0.31\n",
      "Epoch [9/200], Step[500/600], class_loss: 0.0000, d_loss: 0.7773, g_loss: 2.3576, D(x): 0.81, D(G(z)): 0.30\n",
      "Epoch [10/200], Step[100/600], class_loss: 0.0006, d_loss: 0.6005, g_loss: 2.4505, D(x): 0.78, D(G(z)): 0.20\n",
      "Epoch [10/200], Step[200/600], class_loss: 0.0050, d_loss: 0.8438, g_loss: 1.8045, D(x): 0.76, D(G(z)): 0.29\n",
      "Epoch [10/200], Step[300/600], class_loss: 0.0014, d_loss: 0.7745, g_loss: 1.5983, D(x): 0.73, D(G(z)): 0.25\n",
      "Epoch [10/200], Step[400/600], class_loss: 0.0005, d_loss: 0.8754, g_loss: 2.0040, D(x): 0.70, D(G(z)): 0.23\n",
      "Epoch [10/200], Step[500/600], class_loss: 0.0006, d_loss: 0.8678, g_loss: 1.7190, D(x): 0.72, D(G(z)): 0.28\n",
      "Epoch [11/200], Step[100/600], class_loss: 0.0025, d_loss: 0.8083, g_loss: 1.5390, D(x): 0.75, D(G(z)): 0.26\n",
      "Epoch [11/200], Step[200/600], class_loss: 0.0005, d_loss: 0.7186, g_loss: 1.7246, D(x): 0.81, D(G(z)): 0.30\n",
      "Epoch [11/200], Step[300/600], class_loss: 0.0005, d_loss: 0.7722, g_loss: 2.1181, D(x): 0.77, D(G(z)): 0.27\n",
      "Epoch [11/200], Step[400/600], class_loss: 0.0026, d_loss: 0.7492, g_loss: 2.1214, D(x): 0.76, D(G(z)): 0.26\n",
      "Epoch [11/200], Step[500/600], class_loss: 0.0002, d_loss: 0.7188, g_loss: 2.0364, D(x): 0.77, D(G(z)): 0.26\n",
      "Epoch [12/200], Step[100/600], class_loss: 0.0227, d_loss: 0.7691, g_loss: 1.5403, D(x): 0.77, D(G(z)): 0.27\n",
      "Epoch [12/200], Step[200/600], class_loss: 0.0001, d_loss: 0.7219, g_loss: 2.4918, D(x): 0.72, D(G(z)): 0.18\n",
      "Epoch [12/200], Step[300/600], class_loss: 0.0006, d_loss: 0.7211, g_loss: 2.0091, D(x): 0.78, D(G(z)): 0.25\n",
      "Epoch [12/200], Step[400/600], class_loss: 0.0016, d_loss: 0.8771, g_loss: 1.5823, D(x): 0.77, D(G(z)): 0.33\n",
      "Epoch [12/200], Step[500/600], class_loss: 0.0001, d_loss: 0.8757, g_loss: 2.0500, D(x): 0.69, D(G(z)): 0.26\n",
      "Epoch [13/200], Step[100/600], class_loss: 0.0003, d_loss: 0.7624, g_loss: 1.9521, D(x): 0.75, D(G(z)): 0.23\n",
      "Epoch [13/200], Step[200/600], class_loss: 0.0006, d_loss: 0.6912, g_loss: 2.3106, D(x): 0.80, D(G(z)): 0.28\n",
      "Epoch [13/200], Step[300/600], class_loss: 0.0002, d_loss: 0.8936, g_loss: 1.7787, D(x): 0.78, D(G(z)): 0.33\n",
      "Epoch [13/200], Step[400/600], class_loss: 0.0007, d_loss: 0.7014, g_loss: 2.6539, D(x): 0.73, D(G(z)): 0.19\n",
      "Epoch [13/200], Step[500/600], class_loss: 0.0062, d_loss: 0.8209, g_loss: 1.7333, D(x): 0.65, D(G(z)): 0.17\n",
      "Epoch [14/200], Step[100/600], class_loss: 0.0070, d_loss: 0.7207, g_loss: 1.8330, D(x): 0.72, D(G(z)): 0.19\n",
      "Epoch [14/200], Step[200/600], class_loss: 0.0002, d_loss: 0.7424, g_loss: 2.2979, D(x): 0.79, D(G(z)): 0.25\n",
      "Epoch [14/200], Step[300/600], class_loss: 0.0101, d_loss: 0.6437, g_loss: 1.9097, D(x): 0.77, D(G(z)): 0.22\n",
      "Epoch [14/200], Step[400/600], class_loss: 0.0002, d_loss: 0.7652, g_loss: 1.9642, D(x): 0.73, D(G(z)): 0.24\n",
      "Epoch [14/200], Step[500/600], class_loss: 0.0019, d_loss: 0.9510, g_loss: 1.7354, D(x): 0.68, D(G(z)): 0.24\n",
      "Epoch [15/200], Step[100/600], class_loss: 0.0080, d_loss: 0.8458, g_loss: 1.7453, D(x): 0.73, D(G(z)): 0.29\n",
      "Epoch [15/200], Step[200/600], class_loss: 0.0021, d_loss: 0.7698, g_loss: 2.2226, D(x): 0.74, D(G(z)): 0.22\n",
      "Epoch [15/200], Step[300/600], class_loss: 0.0009, d_loss: 0.8206, g_loss: 1.9874, D(x): 0.75, D(G(z)): 0.29\n",
      "Epoch [15/200], Step[400/600], class_loss: 0.0000, d_loss: 0.7064, g_loss: 1.5894, D(x): 0.74, D(G(z)): 0.22\n",
      "Epoch [15/200], Step[500/600], class_loss: 0.0008, d_loss: 0.8083, g_loss: 1.9827, D(x): 0.76, D(G(z)): 0.27\n",
      "Epoch [16/200], Step[100/600], class_loss: 0.0002, d_loss: 0.8406, g_loss: 1.9359, D(x): 0.69, D(G(z)): 0.25\n",
      "Epoch [16/200], Step[200/600], class_loss: 0.0008, d_loss: 0.8264, g_loss: 1.9338, D(x): 0.72, D(G(z)): 0.26\n",
      "Epoch [16/200], Step[300/600], class_loss: 0.0006, d_loss: 0.7286, g_loss: 2.2865, D(x): 0.73, D(G(z)): 0.22\n",
      "Epoch [16/200], Step[400/600], class_loss: 0.0011, d_loss: 0.7732, g_loss: 1.9891, D(x): 0.77, D(G(z)): 0.27\n",
      "Epoch [16/200], Step[500/600], class_loss: 0.0010, d_loss: 0.8082, g_loss: 2.0677, D(x): 0.72, D(G(z)): 0.22\n",
      "Epoch [17/200], Step[100/600], class_loss: 0.0008, d_loss: 0.7138, g_loss: 1.8734, D(x): 0.74, D(G(z)): 0.24\n",
      "Epoch [17/200], Step[200/600], class_loss: 0.0008, d_loss: 0.6039, g_loss: 2.0254, D(x): 0.78, D(G(z)): 0.23\n",
      "Epoch [17/200], Step[300/600], class_loss: 0.0072, d_loss: 0.8075, g_loss: 2.5041, D(x): 0.77, D(G(z)): 0.27\n",
      "Epoch [17/200], Step[400/600], class_loss: 0.0001, d_loss: 0.8615, g_loss: 2.6573, D(x): 0.69, D(G(z)): 0.24\n",
      "Epoch [17/200], Step[500/600], class_loss: 0.0082, d_loss: 0.8122, g_loss: 2.0513, D(x): 0.73, D(G(z)): 0.24\n",
      "Epoch [18/200], Step[100/600], class_loss: 0.0079, d_loss: 0.7222, g_loss: 2.2235, D(x): 0.71, D(G(z)): 0.18\n",
      "Epoch [18/200], Step[200/600], class_loss: 0.0013, d_loss: 0.8412, g_loss: 1.5654, D(x): 0.79, D(G(z)): 0.34\n",
      "Epoch [18/200], Step[300/600], class_loss: 0.0003, d_loss: 0.8336, g_loss: 2.2494, D(x): 0.67, D(G(z)): 0.22\n",
      "Epoch [18/200], Step[400/600], class_loss: 0.0004, d_loss: 0.8401, g_loss: 1.9794, D(x): 0.73, D(G(z)): 0.25\n",
      "Epoch [18/200], Step[500/600], class_loss: 0.0001, d_loss: 0.7194, g_loss: 1.8187, D(x): 0.80, D(G(z)): 0.28\n",
      "Epoch [19/200], Step[100/600], class_loss: 0.0063, d_loss: 0.6562, g_loss: 2.4494, D(x): 0.73, D(G(z)): 0.17\n",
      "Epoch [19/200], Step[200/600], class_loss: 0.0003, d_loss: 0.7259, g_loss: 2.1444, D(x): 0.72, D(G(z)): 0.22\n",
      "Epoch [19/200], Step[300/600], class_loss: 0.0002, d_loss: 0.8799, g_loss: 1.6794, D(x): 0.72, D(G(z)): 0.26\n",
      "Epoch [19/200], Step[400/600], class_loss: 0.0001, d_loss: 0.7790, g_loss: 2.0715, D(x): 0.72, D(G(z)): 0.20\n",
      "Epoch [19/200], Step[500/600], class_loss: 0.0000, d_loss: 0.8670, g_loss: 1.5868, D(x): 0.76, D(G(z)): 0.31\n",
      "Epoch [20/200], Step[100/600], class_loss: 0.0006, d_loss: 0.7661, g_loss: 1.9571, D(x): 0.73, D(G(z)): 0.20\n",
      "Epoch [20/200], Step[200/600], class_loss: 0.0002, d_loss: 0.7673, g_loss: 1.9537, D(x): 0.75, D(G(z)): 0.25\n",
      "Epoch [20/200], Step[300/600], class_loss: 0.0001, d_loss: 0.8458, g_loss: 1.9498, D(x): 0.78, D(G(z)): 0.32\n",
      "Epoch [20/200], Step[400/600], class_loss: 0.0003, d_loss: 0.7443, g_loss: 2.0843, D(x): 0.68, D(G(z)): 0.18\n",
      "Epoch [20/200], Step[500/600], class_loss: 0.0000, d_loss: 0.7455, g_loss: 2.2787, D(x): 0.69, D(G(z)): 0.20\n",
      "Epoch [21/200], Step[100/600], class_loss: 0.0014, d_loss: 0.8978, g_loss: 1.9240, D(x): 0.71, D(G(z)): 0.26\n",
      "Epoch [21/200], Step[200/600], class_loss: 0.0002, d_loss: 0.7201, g_loss: 1.9357, D(x): 0.80, D(G(z)): 0.28\n",
      "Epoch [21/200], Step[300/600], class_loss: 0.0035, d_loss: 0.6822, g_loss: 2.0388, D(x): 0.78, D(G(z)): 0.23\n",
      "Epoch [21/200], Step[400/600], class_loss: 0.0022, d_loss: 0.8041, g_loss: 2.2467, D(x): 0.79, D(G(z)): 0.33\n",
      "Epoch [21/200], Step[500/600], class_loss: 0.0016, d_loss: 0.6695, g_loss: 2.3540, D(x): 0.76, D(G(z)): 0.23\n",
      "Epoch [22/200], Step[100/600], class_loss: 0.0016, d_loss: 0.8162, g_loss: 1.6443, D(x): 0.74, D(G(z)): 0.27\n",
      "Epoch [22/200], Step[200/600], class_loss: 0.0019, d_loss: 0.8759, g_loss: 1.9991, D(x): 0.72, D(G(z)): 0.28\n",
      "Epoch [22/200], Step[300/600], class_loss: 0.0001, d_loss: 0.9176, g_loss: 2.0884, D(x): 0.77, D(G(z)): 0.31\n",
      "Epoch [22/200], Step[400/600], class_loss: 0.0012, d_loss: 0.7314, g_loss: 2.0156, D(x): 0.79, D(G(z)): 0.28\n",
      "Epoch [22/200], Step[500/600], class_loss: 0.0007, d_loss: 0.7750, g_loss: 2.1010, D(x): 0.68, D(G(z)): 0.14\n",
      "Epoch [23/200], Step[100/600], class_loss: 0.0001, d_loss: 0.8299, g_loss: 2.3901, D(x): 0.68, D(G(z)): 0.21\n",
      "Epoch [23/200], Step[200/600], class_loss: 0.0022, d_loss: 0.8376, g_loss: 1.7419, D(x): 0.78, D(G(z)): 0.29\n",
      "Epoch [23/200], Step[300/600], class_loss: 0.0006, d_loss: 0.7523, g_loss: 2.2452, D(x): 0.81, D(G(z)): 0.31\n"
     ]
    },
    {
     "ename": "KeyboardInterrupt",
     "evalue": "",
     "output_type": "error",
     "traceback": [
      "\u001b[0;31m---------------------------------------------------------------------------\u001b[0m",
      "\u001b[0;31mKeyboardInterrupt\u001b[0m                         Traceback (most recent call last)",
      "\u001b[0;32m<ipython-input-41-76929d93399e>\u001b[0m in \u001b[0;36m<module>\u001b[0;34m()\u001b[0m\n\u001b[1;32m     31\u001b[0m         \u001b[0mDy\u001b[0m\u001b[0;34m.\u001b[0m\u001b[0mzero_grad\u001b[0m\u001b[0;34m(\u001b[0m\u001b[0;34m)\u001b[0m\u001b[0;34m\u001b[0m\u001b[0m\n\u001b[1;32m     32\u001b[0m         \u001b[0md_loss\u001b[0m\u001b[0;34m.\u001b[0m\u001b[0mbackward\u001b[0m\u001b[0;34m(\u001b[0m\u001b[0;34m)\u001b[0m\u001b[0;34m\u001b[0m\u001b[0m\n\u001b[0;32m---> 33\u001b[0;31m         \u001b[0md_optimizer\u001b[0m\u001b[0;34m.\u001b[0m\u001b[0mstep\u001b[0m\u001b[0;34m(\u001b[0m\u001b[0;34m)\u001b[0m\u001b[0;34m\u001b[0m\u001b[0m\n\u001b[0m\u001b[1;32m     34\u001b[0m \u001b[0;34m\u001b[0m\u001b[0m\n\u001b[1;32m     35\u001b[0m         \u001b[0;31m#=============== generator ===============#\u001b[0m\u001b[0;34m\u001b[0m\u001b[0;34m\u001b[0m\u001b[0m\n",
      "\u001b[0;32m/Users/myu/anaconda/envs/python3/lib/python3.6/site-packages/torch/optim/adam.py\u001b[0m in \u001b[0;36mstep\u001b[0;34m(self, closure)\u001b[0m\n\u001b[1;32m     72\u001b[0m                 \u001b[0mdenom\u001b[0m \u001b[0;34m=\u001b[0m \u001b[0mexp_avg_sq\u001b[0m\u001b[0;34m.\u001b[0m\u001b[0msqrt\u001b[0m\u001b[0;34m(\u001b[0m\u001b[0;34m)\u001b[0m\u001b[0;34m.\u001b[0m\u001b[0madd_\u001b[0m\u001b[0;34m(\u001b[0m\u001b[0mgroup\u001b[0m\u001b[0;34m[\u001b[0m\u001b[0;34m'eps'\u001b[0m\u001b[0;34m]\u001b[0m\u001b[0;34m)\u001b[0m\u001b[0;34m\u001b[0m\u001b[0m\n\u001b[1;32m     73\u001b[0m \u001b[0;34m\u001b[0m\u001b[0m\n\u001b[0;32m---> 74\u001b[0;31m                 \u001b[0mbias_correction1\u001b[0m \u001b[0;34m=\u001b[0m \u001b[0;36m1\u001b[0m \u001b[0;34m-\u001b[0m \u001b[0mbeta1\u001b[0m \u001b[0;34m**\u001b[0m \u001b[0mstate\u001b[0m\u001b[0;34m[\u001b[0m\u001b[0;34m'step'\u001b[0m\u001b[0;34m]\u001b[0m\u001b[0;34m\u001b[0m\u001b[0m\n\u001b[0m\u001b[1;32m     75\u001b[0m                 \u001b[0mbias_correction2\u001b[0m \u001b[0;34m=\u001b[0m \u001b[0;36m1\u001b[0m \u001b[0;34m-\u001b[0m \u001b[0mbeta2\u001b[0m \u001b[0;34m**\u001b[0m \u001b[0mstate\u001b[0m\u001b[0;34m[\u001b[0m\u001b[0;34m'step'\u001b[0m\u001b[0;34m]\u001b[0m\u001b[0;34m\u001b[0m\u001b[0m\n\u001b[1;32m     76\u001b[0m                 \u001b[0mstep_size\u001b[0m \u001b[0;34m=\u001b[0m \u001b[0mgroup\u001b[0m\u001b[0;34m[\u001b[0m\u001b[0;34m'lr'\u001b[0m\u001b[0;34m]\u001b[0m \u001b[0;34m*\u001b[0m \u001b[0mmath\u001b[0m\u001b[0;34m.\u001b[0m\u001b[0msqrt\u001b[0m\u001b[0;34m(\u001b[0m\u001b[0mbias_correction2\u001b[0m\u001b[0;34m)\u001b[0m \u001b[0;34m/\u001b[0m \u001b[0mbias_correction1\u001b[0m\u001b[0;34m\u001b[0m\u001b[0m\n",
      "\u001b[0;31mKeyboardInterrupt\u001b[0m: "
     ]
    }
   ],
   "source": [
    "# Start training\n",
    "N_EPOCHS = 200\n",
    "\n",
    "for epoch in range(N_EPOCHS):\n",
    "    for i, (images, labels) in enumerate(train_loader):        \n",
    "        batch_size = images.size(0)\n",
    "        images = to_var(images.view(batch_size, -1))\n",
    "        \n",
    "        labels = to_var(labels)\n",
    "        real_labels = to_var(torch.ones(batch_size))\n",
    "        fake_labels = to_var(torch.zeros(batch_size))\n",
    "\n",
    "        #============= discriminator =============#\n",
    "        # k=1 (least expensive to train)     \n",
    "        \n",
    "        # real images\n",
    "        outputs_z, outputs_y = Dz(images).squeeze(), Dy(images).squeeze()\n",
    "        class_loss = criterion_y(outputs_y, labels) \n",
    "        d_loss_real = criterion_z(outputs_z, real_labels) + class_loss\n",
    "        real_score = outputs_z\n",
    "        \n",
    "        # fake images\n",
    "        z = to_var(torch.randn(batch_size, LATENT_SIZE))\n",
    "        fake_images = G(z)\n",
    "        outputs_z = Dz(fake_images).squeeze()\n",
    "        d_loss_fake = criterion_z(outputs_z, fake_labels)\n",
    "        fake_score = outputs_z\n",
    "        \n",
    "        d_loss = d_loss_real + d_loss_fake\n",
    "        Dz.zero_grad()\n",
    "        Dy.zero_grad()\n",
    "        d_loss.backward()\n",
    "        d_optimizer.step()\n",
    "        \n",
    "        #=============== generator ===============#\n",
    "        # fake images\n",
    "        z = to_var(torch.randn(batch_size, LATENT_SIZE))\n",
    "        fake_images = G(z)\n",
    "        outputs = Dz(fake_images).squeeze()\n",
    "        \n",
    "        g_loss = criterion(outputs, real_labels)\n",
    "        \n",
    "        Dz.zero_grad()\n",
    "        Dy.zero_grad()\n",
    "        G.zero_grad()\n",
    "        g_loss.backward()\n",
    "        g_optimizer.step()\n",
    "        \n",
    "        if (i+1) % 100 == 0:\n",
    "            print('Epoch [%d/%d], Step[%d/%d], class_loss: %.4f, d_loss: %.4f, '\n",
    "                  'g_loss: %.4f, D(x): %.2f, D(G(z)): %.2f' \n",
    "                  %(epoch, 200, i+1, 600, class_loss.data, d_loss.data[0], g_loss.data[0],\n",
    "                    real_score.data.mean(), fake_score.data.mean()))\n",
    "        \n",
    "    fake_images = fake_images.view(fake_images.size(0), 1, 28, 28)\n",
    "    save_image(denorm(fake_images.data), './data/fake_images-%d.png' %(epoch+1))"
   ]
  },
  {
   "cell_type": "code",
   "execution_count": 47,
   "metadata": {
    "collapsed": false
   },
   "outputs": [],
   "source": [
    "import numpy as np\n",
    "\n",
    "batch_size = 1\n",
    "N_INTERP_IMGS = 10\n",
    "\n",
    "for i in range(N_INTERP_IMGS):\n",
    "    z1 = to_var(torch.randn(batch_size, LATENT_SIZE))\n",
    "    z2 = to_var(torch.randn(batch_size, LATENT_SIZE))\n",
    "    fake_images1, fake_images2 = G(z1), G(z2)\n",
    "\n",
    "    alphas = [0, 0.2, 0.4, 0.6, 0.8, 1]\n",
    "    z = torch.stack([alpha * z1 + (1 - alpha) * z2 for alpha in alphas])\n",
    "    fake_images = G(z)\n",
    "\n",
    "    fake_images = fake_images.view(fake_images.size(0), 1, 28, 28)\n",
    "    save_image(denorm(fake_images.data), './data2/interp_fake_images-%d.png' % (i + 1))"
   ]
  },
  {
   "cell_type": "markdown",
   "metadata": {},
   "source": [
    "Great now we are ready to begin modeling. Performance-wise, you want tune your hyperparameters based on the **evidence lower bound (ELBO)**. Recall that the ELBO is given by:\n",
    "\n",
    "$$ELBO = \\mathbb{E}_{q(\\mathbf{z} ; \\lambda)} [\\log p(\\mathbf{x} \\,|\\,\\mathbf{z} ; \\theta)] - \\mathbb{KL}[q(\\mathbf{z};\\lambda) \\, \\Vert \\, p(\\mathbf{z})]$$"
   ]
  },
  {
   "cell_type": "markdown",
   "metadata": {},
   "source": [
    "The variational parameters are given by running the encoder over the input, i..e. $\\lambda = encoder(\\mathbf{x};\\phi)$. The generative model (i.e. decoder) is parameterized by $\\theta$. Since we are working with binarized digits, $\\log p(x \\, | \\, \\mathbf{z} ; \\theta)$ is given by:\n",
    "\n",
    "$$ \\log p(x \\, | \\, \\mathbf{z} ; \\theta) = \\sum_{i=1}^{784} \\log \\sigma(\\mathbf{h})_{i} $$"
   ]
  },
  {
   "cell_type": "markdown",
   "metadata": {},
   "source": [
    "where $\\mathbf{h}$ is the final layer of the generative model (i.e. 28*28 = 784 dimensionval vector), and $\\sigma(\\cdot)$ is the sigmoid function. \n",
    "\n",
    "For the baseline model in this assignment you will be using a spherical normal prior, i.e. $p(\\mathbf{z}) = \\mathcal{N}(\\mathbf{0}, \\mathbf{I})$. The variational family will also be normal, i.e. $q(\\mathbf{z} ; \\lambda) = \\mathcal{N}(\\boldsymbol{\\mu}, \\log \\boldsymbol \\sigma^2)$ (here we will work with normal families with diagonal covariance). The KL-divergence between the variational posterior $q(\\mathbf{z})$ and the prior $p(\\mathbf{z})$ has a closed-form analytic solution, which is available in the original VAE paper referenced above. (If you are using the torch distributions package they will automatically calculate it for you, however you will need to use pytorch 0.4)."
   ]
  },
  {
   "cell_type": "markdown",
   "metadata": {},
   "source": [
    "For GANs you should use the same data in its continuous form. Here use the same prior, but use a multi-layer network to map to a continous 28x28 output space. Then use a multilayer discriminator to classify. \n",
    "\n",
    "For both models you may also consider trying a deconvolutional network (as in DCGAN) to produce output from the latent variable."
   ]
  },
  {
   "cell_type": "markdown",
   "metadata": {},
   "source": [
    "## Visualizations"
   ]
  },
  {
   "cell_type": "markdown",
   "metadata": {},
   "source": [
    "In addition to quantitative metrics (i.e. ELBO), we are also going to ask you to do some qualitative analysis via visualizations. Please include the following in your report:\n",
    "\n",
    "1. Generate a bunch of digits from your generative model (sample $\\mathbf{z} \\sim p(\\mathbf{z})$, then $\\mathbf{x} \\sim p (\\mathbf{x} \\, | \\, \\mathbf{z} ; \\theta$))\n",
    "2. Sample two random latent vectors $\\mathbf{z}_1, \\mathbf{z}_2 \\sim p(\\mathbf{z})$, then sample from their interpolated values, i.e. $\\mathbf{z} \\sim p (\\mathbf{x} \\, | \\, \\alpha\\mathbf{z}_1 + (1-\\alpha)\\mathbf{z}_2; \\theta$) for $\\alpha = \\{0, 0.2, 0.4, 0.6, 0.8 ,1.0 \\}$.\n",
    "3. Train a VAE with 2 latent dimensions. Make a scatter plot of the variational means, $\\mu_1, \\mu_2$, where the color\n",
    "corresponds to the digit.\n",
    "4. With the same model as in (3), pick a 2d grid around the origin (0,0), e.g. with\n",
    "`np.meshgrid(np.linspace(-2, 2, 10), np.linspace(-2, 2, 10)`. For each point in the grid $(z_1, z_2)$, generate\n",
    "$\\mathbf{x}$ and show the corresponding digit in the 2d plot. For an example see [here](http://fastforwardlabs.github.io/blog-images/miriam/tableau.1493x693.png) (the right image)\n"
   ]
  },
  {
   "cell_type": "code",
   "execution_count": null,
   "metadata": {
    "collapsed": true
   },
   "outputs": [],
   "source": []
  }
 ],
 "metadata": {
  "anaconda-cloud": {},
  "kernelspec": {
   "display_name": "Python [python3]",
   "language": "python",
   "name": "Python [python3]"
  },
  "language_info": {
   "codemirror_mode": {
    "name": "ipython",
    "version": 3
   },
   "file_extension": ".py",
   "mimetype": "text/x-python",
   "name": "python",
   "nbconvert_exporter": "python",
   "pygments_lexer": "ipython3",
   "version": "3.6.0"
  }
 },
 "nbformat": 4,
 "nbformat_minor": 2
}
