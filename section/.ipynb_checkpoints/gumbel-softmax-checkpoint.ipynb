{
 "cells": [
  {
   "cell_type": "markdown",
   "metadata": {},
   "source": [
    "# Section: Gumbel-Softmax"
   ]
  },
  {
   "cell_type": "markdown",
   "metadata": {},
   "source": []
  },
  {
   "cell_type": "markdown",
   "metadata": {},
   "source": [
    "## Setup"
   ]
  },
  {
   "cell_type": "markdown",
   "metadata": {},
   "source": [
    "First, as always, let's download the data."
   ]
  },
  {
   "cell_type": "code",
   "execution_count": 75,
   "metadata": {},
   "outputs": [],
   "source": [
    "import torch\n",
    "import numpy as np\n",
    "import matplotlib.pyplot as plt\n",
    "import torch.nn as nn\n",
    "import torch.nn.functional as F\n",
    "import torchvision.datasets as datasets\n",
    "import torchvision.transforms as transforms\n",
    "train_dataset = datasets.MNIST(root='./data/',\n",
    "                            train=True, \n",
    "                            transform=transforms.ToTensor(),\n",
    "                            download=True)\n",
    "test_dataset = datasets.MNIST(root='./data/',\n",
    "                           train=False, \n",
    "                           transform=transforms.ToTensor())"
   ]
  },
  {
   "cell_type": "code",
   "execution_count": 2,
   "metadata": {},
   "outputs": [
    {
     "name": "stdout",
     "output_type": "stream",
     "text": [
      "60000\n",
      "10000\n"
     ]
    },
    {
     "data": {
      "text/plain": [
       "\n",
       "(0 ,.,.) = \n",
       "\n",
       "Columns 0 to 8 \n",
       "   0.0000  0.0000  0.0000  0.0000  0.0000  0.0000  0.0000  0.0000  0.0000\n",
       "  0.0000  0.0000  0.0000  0.0000  0.0000  0.0000  0.0000  0.0000  0.0000\n",
       "  0.0000  0.0000  0.0000  0.0000  0.0000  0.0000  0.0000  0.0000  0.0000\n",
       "  0.0000  0.0000  0.0000  0.0000  0.0000  0.0000  0.0000  0.0000  0.0000\n",
       "  0.0000  0.0000  0.0000  0.0000  0.0000  0.0000  0.0000  0.0000  0.0000\n",
       "  0.0000  0.0000  0.0000  0.0000  0.0000  0.0000  0.0000  0.0000  0.0000\n",
       "  0.0000  0.0000  0.0000  0.0000  0.0000  0.0000  0.0000  0.0000  0.1176\n",
       "  0.0000  0.0000  0.0000  0.0000  0.0000  0.0000  0.0000  0.1922  0.9333\n",
       "  0.0000  0.0000  0.0000  0.0000  0.0000  0.0000  0.0000  0.0706  0.8588\n",
       "  0.0000  0.0000  0.0000  0.0000  0.0000  0.0000  0.0000  0.0000  0.3137\n",
       "  0.0000  0.0000  0.0000  0.0000  0.0000  0.0000  0.0000  0.0000  0.0000\n",
       "  0.0000  0.0000  0.0000  0.0000  0.0000  0.0000  0.0000  0.0000  0.0000\n",
       "  0.0000  0.0000  0.0000  0.0000  0.0000  0.0000  0.0000  0.0000  0.0000\n",
       "  0.0000  0.0000  0.0000  0.0000  0.0000  0.0000  0.0000  0.0000  0.0000\n",
       "  0.0000  0.0000  0.0000  0.0000  0.0000  0.0000  0.0000  0.0000  0.0000\n",
       "  0.0000  0.0000  0.0000  0.0000  0.0000  0.0000  0.0000  0.0000  0.0000\n",
       "  0.0000  0.0000  0.0000  0.0000  0.0000  0.0000  0.0000  0.0000  0.0000\n",
       "  0.0000  0.0000  0.0000  0.0000  0.0000  0.0000  0.0000  0.0000  0.0000\n",
       "  0.0000  0.0000  0.0000  0.0000  0.0000  0.0000  0.0000  0.0000  0.0000\n",
       "  0.0000  0.0000  0.0000  0.0000  0.0000  0.0000  0.0000  0.0000  0.0000\n",
       "  0.0000  0.0000  0.0000  0.0000  0.0000  0.0000  0.0000  0.0000  0.0000\n",
       "  0.0000  0.0000  0.0000  0.0000  0.0000  0.0000  0.0000  0.0000  0.0902\n",
       "  0.0000  0.0000  0.0000  0.0000  0.0000  0.0000  0.0706  0.6706  0.8588\n",
       "  0.0000  0.0000  0.0000  0.0000  0.2157  0.6745  0.8863  0.9922  0.9922\n",
       "  0.0000  0.0000  0.0000  0.0000  0.5333  0.9922  0.9922  0.9922  0.8314\n",
       "  0.0000  0.0000  0.0000  0.0000  0.0000  0.0000  0.0000  0.0000  0.0000\n",
       "  0.0000  0.0000  0.0000  0.0000  0.0000  0.0000  0.0000  0.0000  0.0000\n",
       "  0.0000  0.0000  0.0000  0.0000  0.0000  0.0000  0.0000  0.0000  0.0000\n",
       "\n",
       "Columns 9 to 17 \n",
       "   0.0000  0.0000  0.0000  0.0000  0.0000  0.0000  0.0000  0.0000  0.0000\n",
       "  0.0000  0.0000  0.0000  0.0000  0.0000  0.0000  0.0000  0.0000  0.0000\n",
       "  0.0000  0.0000  0.0000  0.0000  0.0000  0.0000  0.0000  0.0000  0.0000\n",
       "  0.0000  0.0000  0.0000  0.0000  0.0000  0.0000  0.0000  0.0000  0.0000\n",
       "  0.0000  0.0000  0.0000  0.0000  0.0000  0.0000  0.0000  0.0000  0.0000\n",
       "  0.0000  0.0000  0.0000  0.0118  0.0706  0.0706  0.0706  0.4941  0.5333\n",
       "  0.1412  0.3686  0.6039  0.6667  0.9922  0.9922  0.9922  0.9922  0.9922\n",
       "  0.9922  0.9922  0.9922  0.9922  0.9922  0.9922  0.9922  0.9922  0.9843\n",
       "  0.9922  0.9922  0.9922  0.9922  0.9922  0.7765  0.7137  0.9686  0.9451\n",
       "  0.6118  0.4196  0.9922  0.9922  0.8039  0.0431  0.0000  0.1686  0.6039\n",
       "  0.0549  0.0039  0.6039  0.9922  0.3529  0.0000  0.0000  0.0000  0.0000\n",
       "  0.0000  0.0000  0.5451  0.9922  0.7451  0.0078  0.0000  0.0000  0.0000\n",
       "  0.0000  0.0000  0.0431  0.7451  0.9922  0.2745  0.0000  0.0000  0.0000\n",
       "  0.0000  0.0000  0.0000  0.1373  0.9451  0.8824  0.6275  0.4235  0.0039\n",
       "  0.0000  0.0000  0.0000  0.0000  0.3176  0.9412  0.9922  0.9922  0.4667\n",
       "  0.0000  0.0000  0.0000  0.0000  0.0000  0.1765  0.7294  0.9922  0.9922\n",
       "  0.0000  0.0000  0.0000  0.0000  0.0000  0.0000  0.0627  0.3647  0.9882\n",
       "  0.0000  0.0000  0.0000  0.0000  0.0000  0.0000  0.0000  0.0000  0.9765\n",
       "  0.0000  0.0000  0.0000  0.0000  0.0000  0.1804  0.5098  0.7176  0.9922\n",
       "  0.0000  0.0000  0.0000  0.1529  0.5804  0.8980  0.9922  0.9922  0.9922\n",
       "  0.0000  0.0941  0.4471  0.8667  0.9922  0.9922  0.9922  0.9922  0.7882\n",
       "  0.2588  0.8353  0.9922  0.9922  0.9922  0.9922  0.7765  0.3176  0.0078\n",
       "  0.9922  0.9922  0.9922  0.9922  0.7647  0.3137  0.0353  0.0000  0.0000\n",
       "  0.9922  0.9922  0.9569  0.5216  0.0431  0.0000  0.0000  0.0000  0.0000\n",
       "  0.5294  0.5176  0.0627  0.0000  0.0000  0.0000  0.0000  0.0000  0.0000\n",
       "  0.0000  0.0000  0.0000  0.0000  0.0000  0.0000  0.0000  0.0000  0.0000\n",
       "  0.0000  0.0000  0.0000  0.0000  0.0000  0.0000  0.0000  0.0000  0.0000\n",
       "  0.0000  0.0000  0.0000  0.0000  0.0000  0.0000  0.0000  0.0000  0.0000\n",
       "\n",
       "Columns 18 to 26 \n",
       "   0.0000  0.0000  0.0000  0.0000  0.0000  0.0000  0.0000  0.0000  0.0000\n",
       "  0.0000  0.0000  0.0000  0.0000  0.0000  0.0000  0.0000  0.0000  0.0000\n",
       "  0.0000  0.0000  0.0000  0.0000  0.0000  0.0000  0.0000  0.0000  0.0000\n",
       "  0.0000  0.0000  0.0000  0.0000  0.0000  0.0000  0.0000  0.0000  0.0000\n",
       "  0.0000  0.0000  0.0000  0.0000  0.0000  0.0000  0.0000  0.0000  0.0000\n",
       "  0.6863  0.1020  0.6510  1.0000  0.9686  0.4980  0.0000  0.0000  0.0000\n",
       "  0.8824  0.6745  0.9922  0.9490  0.7647  0.2510  0.0000  0.0000  0.0000\n",
       "  0.3647  0.3216  0.3216  0.2196  0.1529  0.0000  0.0000  0.0000  0.0000\n",
       "  0.0000  0.0000  0.0000  0.0000  0.0000  0.0000  0.0000  0.0000  0.0000\n",
       "  0.0000  0.0000  0.0000  0.0000  0.0000  0.0000  0.0000  0.0000  0.0000\n",
       "  0.0000  0.0000  0.0000  0.0000  0.0000  0.0000  0.0000  0.0000  0.0000\n",
       "  0.0000  0.0000  0.0000  0.0000  0.0000  0.0000  0.0000  0.0000  0.0000\n",
       "  0.0000  0.0000  0.0000  0.0000  0.0000  0.0000  0.0000  0.0000  0.0000\n",
       "  0.0000  0.0000  0.0000  0.0000  0.0000  0.0000  0.0000  0.0000  0.0000\n",
       "  0.0980  0.0000  0.0000  0.0000  0.0000  0.0000  0.0000  0.0000  0.0000\n",
       "  0.5882  0.1059  0.0000  0.0000  0.0000  0.0000  0.0000  0.0000  0.0000\n",
       "  0.9922  0.7333  0.0000  0.0000  0.0000  0.0000  0.0000  0.0000  0.0000\n",
       "  0.9922  0.9765  0.2510  0.0000  0.0000  0.0000  0.0000  0.0000  0.0000\n",
       "  0.9922  0.8118  0.0078  0.0000  0.0000  0.0000  0.0000  0.0000  0.0000\n",
       "  0.9804  0.7137  0.0000  0.0000  0.0000  0.0000  0.0000  0.0000  0.0000\n",
       "  0.3059  0.0000  0.0000  0.0000  0.0000  0.0000  0.0000  0.0000  0.0000\n",
       "  0.0000  0.0000  0.0000  0.0000  0.0000  0.0000  0.0000  0.0000  0.0000\n",
       "  0.0000  0.0000  0.0000  0.0000  0.0000  0.0000  0.0000  0.0000  0.0000\n",
       "  0.0000  0.0000  0.0000  0.0000  0.0000  0.0000  0.0000  0.0000  0.0000\n",
       "  0.0000  0.0000  0.0000  0.0000  0.0000  0.0000  0.0000  0.0000  0.0000\n",
       "  0.0000  0.0000  0.0000  0.0000  0.0000  0.0000  0.0000  0.0000  0.0000\n",
       "  0.0000  0.0000  0.0000  0.0000  0.0000  0.0000  0.0000  0.0000  0.0000\n",
       "  0.0000  0.0000  0.0000  0.0000  0.0000  0.0000  0.0000  0.0000  0.0000\n",
       "\n",
       "Columns 27 to 27 \n",
       "   0.0000\n",
       "  0.0000\n",
       "  0.0000\n",
       "  0.0000\n",
       "  0.0000\n",
       "  0.0000\n",
       "  0.0000\n",
       "  0.0000\n",
       "  0.0000\n",
       "  0.0000\n",
       "  0.0000\n",
       "  0.0000\n",
       "  0.0000\n",
       "  0.0000\n",
       "  0.0000\n",
       "  0.0000\n",
       "  0.0000\n",
       "  0.0000\n",
       "  0.0000\n",
       "  0.0000\n",
       "  0.0000\n",
       "  0.0000\n",
       "  0.0000\n",
       "  0.0000\n",
       "  0.0000\n",
       "  0.0000\n",
       "  0.0000\n",
       "  0.0000\n",
       "[torch.FloatTensor of size 1x28x28]"
      ]
     },
     "execution_count": 2,
     "metadata": {},
     "output_type": "execute_result"
    }
   ],
   "source": [
    "print(len(train_dataset))\n",
    "print(len(test_dataset))\n",
    "train_dataset[0][0]"
   ]
  },
  {
   "cell_type": "markdown",
   "metadata": {},
   "source": [
    "Since we will be working with binarized MNIST, let's binarize!\n"
   ]
  },
  {
   "cell_type": "code",
   "execution_count": 4,
   "metadata": {},
   "outputs": [
    {
     "name": "stdout",
     "output_type": "stream",
     "text": [
      "torch.Size([60000, 1, 28, 28]) torch.Size([60000])\n"
     ]
    }
   ],
   "source": [
    "torch.manual_seed(3435)\n",
    "train_img = torch.stack([torch.bernoulli(d[0]) for d in train_dataset])\n",
    "train_label = torch.LongTensor([d[1] for d in train_dataset])\n",
    "print(train_img.size(), train_label.size())"
   ]
  },
  {
   "cell_type": "markdown",
   "metadata": {},
   "source": [
    "Now we use the dataloader to split into batches."
   ]
  },
  {
   "cell_type": "code",
   "execution_count": 5,
   "metadata": {
    "collapsed": true
   },
   "outputs": [],
   "source": [
    "train = torch.utils.data.TensorDataset(train_img, train_label)\n",
    "BATCH_SIZE = 100\n",
    "train_loader = torch.utils.data.DataLoader(train, batch_size=BATCH_SIZE, shuffle=True)"
   ]
  },
  {
   "cell_type": "code",
   "execution_count": 6,
   "metadata": {},
   "outputs": [
    {
     "name": "stdout",
     "output_type": "stream",
     "text": [
      "torch.Size([100, 1, 28, 28]) torch.Size([100])\n"
     ]
    }
   ],
   "source": [
    "for datum in train_loader:\n",
    "    img, label = datum\n",
    "    print(img.size(), label.size())\n",
    "    break"
   ]
  },
  {
   "cell_type": "markdown",
   "metadata": {},
   "source": [
    "Recall that the discriminator training objective is\n",
    "$$\\max_D \\mathbb{E}_{p(x)}[\\log D(x)] + \\mathbb{E}_{p(z)}[\\log (1 - D(G(z))]$$\n",
    " and the generator objective is\n",
    "$$\\max_G \\mathbb{E}_{p(z)}[\\log D(G(z))]$$\n",
    "\n",
    "The loss is differentiable with respect to the discriminator, but not with respect to the generator if $G(\\cdot)$ is a continuous function, since $D(\\cdot)$\n",
    "is not differentiable everywhere (in fact $D$ is only defined for $\\mathcal{X} = \\{0,1\\}^{784})$. To get around this, we introduce the conditional distribution $p_\\theta(x|z)$ and recast the loss as\n",
    "\n",
    "$$\\max_\\theta \\mathbb{E}_{p_\\theta(x|z)p(z)}[\\log D(x)]$$\n",
    "\n",
    "Here we view $D(x)$ as some black-box reward function that we want to maximize."
   ]
  },
  {
   "cell_type": "code",
   "execution_count": 17,
   "metadata": {},
   "outputs": [
    {
     "data": {
      "text/plain": [
       "torch.autograd.variable.Variable"
      ]
     },
     "execution_count": 17,
     "metadata": {},
     "output_type": "execute_result"
    }
   ],
   "source": []
  },
  {
   "cell_type": "code",
   "execution_count": 67,
   "metadata": {},
   "outputs": [],
   "source": [
    "latent_dim = 32\n",
    "lr = 0.0002\n",
    "epochs = 100\n",
    "\n",
    "D = nn.Sequential(nn.Linear(784, 512), nn.LeakyReLU(0.2),\n",
    "                  nn.Linear(512, 256), nn.LeakyReLU(0.2),\n",
    "                  nn.Linear(256, 1), nn.Sigmoid())\n",
    "G = nn.Sequential(nn.Linear(latent_dim, 256), nn.LeakyReLU(0.2),\n",
    "                 nn.Linear(256, 512), nn.LeakyReLU(0.2),\n",
    "                 nn.Linear(512, 784), nn.LeakyReLU(0.2),\n",
    "                 nn.Linear(784, 784),  nn.Sigmoid())\n",
    "for p in list(D.parameters()) + list(G.parameters()):\n",
    "    p.data.normal_(0, 0.02)\n",
    "    \n",
    "D_optim = torch.optim.Adam(D.parameters(), lr = lr)\n",
    "G_optim = torch.optim.Adam(G.parameters(), lr = lr)\n",
    "\n"
   ]
  },
  {
   "cell_type": "code",
   "execution_count": 68,
   "metadata": {},
   "outputs": [
    {
     "name": "stdout",
     "output_type": "stream",
     "text": [
      "DiscLoss: 1.237, GenLoss: 0.876, RealProb: 0.503, Fake Prob: 0.420, |DParam|: 14.684, |GParam|: 21.585\n",
      "DiscLoss: 1.010, GenLoss: 1.318, RealProb: 0.534, Fake Prob: 0.303, |DParam|: 14.814, |GParam|: 21.775\n",
      "DiscLoss: 0.779, GenLoss: 1.921, RealProb: 0.612, Fake Prob: 0.217, |DParam|: 14.996, |GParam|: 22.188\n",
      "DiscLoss: 0.630, GenLoss: 2.135, RealProb: 0.691, Fake Prob: 0.186, |DParam|: 15.208, |GParam|: 22.921\n",
      "DiscLoss: 0.655, GenLoss: 2.055, RealProb: 0.706, Fake Prob: 0.202, |DParam|: 15.457, |GParam|: 24.071\n",
      "DiscLoss: 0.796, GenLoss: 1.952, RealProb: 0.653, Fake Prob: 0.215, |DParam|: 15.570, |GParam|: 25.131\n",
      "DiscLoss: 0.829, GenLoss: 1.889, RealProb: 0.630, Fake Prob: 0.216, |DParam|: 15.632, |GParam|: 25.669\n",
      "DiscLoss: 0.803, GenLoss: 1.879, RealProb: 0.635, Fake Prob: 0.210, |DParam|: 15.716, |GParam|: 25.893\n",
      "DiscLoss: 0.762, GenLoss: 1.908, RealProb: 0.648, Fake Prob: 0.200, |DParam|: 15.814, |GParam|: 25.994\n",
      "DiscLoss: 0.720, GenLoss: 1.955, RealProb: 0.663, Fake Prob: 0.189, |DParam|: 15.913, |GParam|: 26.039\n"
     ]
    },
    {
     "data": {
      "image/png": "[encoded data removed]",
      "text/plain": [
       "<matplotlib.figure.Figure at 0x7f1d0bb262e8>"
      ]
     },
     "metadata": {},
     "output_type": "display_data"
    },
    {
     "name": "stdout",
     "output_type": "stream",
     "text": [
      "DiscLoss: 0.682, GenLoss: 2.002, RealProb: 0.678, Fake Prob: 0.180, |DParam|: 16.012, |GParam|: 26.034\n",
      "DiscLoss: 0.652, GenLoss: 2.047, RealProb: 0.690, Fake Prob: 0.171, |DParam|: 16.112, |GParam|: 26.048\n",
      "DiscLoss: 0.621, GenLoss: 2.091, RealProb: 0.704, Fake Prob: 0.164, |DParam|: 16.214, |GParam|: 26.048\n",
      "DiscLoss: 0.592, GenLoss: 2.148, RealProb: 0.716, Fake Prob: 0.156, |DParam|: 16.313, |GParam|: 26.053\n",
      "DiscLoss: 0.564, GenLoss: 2.206, RealProb: 0.729, Fake Prob: 0.149, |DParam|: 16.407, |GParam|: 26.060\n",
      "DiscLoss: 0.539, GenLoss: 2.258, RealProb: 0.741, Fake Prob: 0.143, |DParam|: 16.496, |GParam|: 26.009\n",
      "DiscLoss: 0.518, GenLoss: 2.297, RealProb: 0.751, Fake Prob: 0.138, |DParam|: 16.586, |GParam|: 25.927\n",
      "DiscLoss: 0.503, GenLoss: 2.323, RealProb: 0.758, Fake Prob: 0.134, |DParam|: 16.686, |GParam|: 25.844\n",
      "DiscLoss: 0.496, GenLoss: 2.321, RealProb: 0.762, Fake Prob: 0.132, |DParam|: 16.798, |GParam|: 25.700\n",
      "DiscLoss: 0.538, GenLoss: 2.269, RealProb: 0.755, Fake Prob: 0.141, |DParam|: 16.909, |GParam|: 25.511\n"
     ]
    },
    {
     "data": {
      "image/png": "[encoded data removed]",
      "text/plain": [
       "<matplotlib.figure.Figure at 0x7f1d0bb33668>"
      ]
     },
     "metadata": {},
     "output_type": "display_data"
    },
    {
     "name": "stdout",
     "output_type": "stream",
     "text": [
      "DiscLoss: 0.641, GenLoss: 2.218, RealProb: 0.736, Fake Prob: 0.151, |DParam|: 17.090, |GParam|: 25.693\n",
      "DiscLoss: 0.675, GenLoss: 2.213, RealProb: 0.731, Fake Prob: 0.151, |DParam|: 17.326, |GParam|: 26.310\n",
      "DiscLoss: 0.661, GenLoss: 2.234, RealProb: 0.738, Fake Prob: 0.148, |DParam|: 17.540, |GParam|: 26.876\n",
      "DiscLoss: 0.644, GenLoss: 2.268, RealProb: 0.746, Fake Prob: 0.144, |DParam|: 17.684, |GParam|: 27.354\n",
      "DiscLoss: 0.630, GenLoss: 2.300, RealProb: 0.753, Fake Prob: 0.140, |DParam|: 17.781, |GParam|: 27.725\n",
      "DiscLoss: 0.612, GenLoss: 2.352, RealProb: 0.760, Fake Prob: 0.136, |DParam|: 17.858, |GParam|: 27.992\n",
      "DiscLoss: 0.594, GenLoss: 2.391, RealProb: 0.767, Fake Prob: 0.132, |DParam|: 17.913, |GParam|: 28.179\n",
      "DiscLoss: 0.580, GenLoss: 2.427, RealProb: 0.774, Fake Prob: 0.129, |DParam|: 17.971, |GParam|: 28.341\n",
      "DiscLoss: 0.565, GenLoss: 2.466, RealProb: 0.780, Fake Prob: 0.125, |DParam|: 18.022, |GParam|: 28.505\n",
      "DiscLoss: 0.550, GenLoss: 2.517, RealProb: 0.786, Fake Prob: 0.122, |DParam|: 18.079, |GParam|: 28.678\n"
     ]
    },
    {
     "data": {
      "image/png": "[encoded data removed]",
      "text/plain": [
       "<matplotlib.figure.Figure at 0x7f1d0bc71048>"
      ]
     },
     "metadata": {},
     "output_type": "display_data"
    },
    {
     "name": "stdout",
     "output_type": "stream",
     "text": [
      "DiscLoss: 0.535, GenLoss: 2.588, RealProb: 0.792, Fake Prob: 0.118, |DParam|: 18.118, |GParam|: 28.829\n",
      "DiscLoss: 0.520, GenLoss: 2.662, RealProb: 0.798, Fake Prob: 0.115, |DParam|: 18.152, |GParam|: 28.969\n",
      "DiscLoss: 0.505, GenLoss: 2.751, RealProb: 0.804, Fake Prob: 0.111, |DParam|: 18.178, |GParam|: 29.085\n",
      "DiscLoss: 0.491, GenLoss: 2.854, RealProb: 0.809, Fake Prob: 0.108, |DParam|: 18.199, |GParam|: 29.176\n",
      "DiscLoss: 0.477, GenLoss: 2.968, RealProb: 0.814, Fake Prob: 0.105, |DParam|: 18.213, |GParam|: 29.239\n",
      "DiscLoss: 0.464, GenLoss: 3.080, RealProb: 0.819, Fake Prob: 0.102, |DParam|: 18.223, |GParam|: 29.273\n",
      "DiscLoss: 0.451, GenLoss: 3.183, RealProb: 0.824, Fake Prob: 0.099, |DParam|: 18.231, |GParam|: 29.290\n",
      "DiscLoss: 0.440, GenLoss: 3.271, RealProb: 0.829, Fake Prob: 0.097, |DParam|: 18.241, |GParam|: 29.312\n",
      "DiscLoss: 0.429, GenLoss: 3.369, RealProb: 0.833, Fake Prob: 0.094, |DParam|: 18.251, |GParam|: 29.336\n",
      "DiscLoss: 0.418, GenLoss: 3.478, RealProb: 0.837, Fake Prob: 0.092, |DParam|: 18.259, |GParam|: 29.346\n"
     ]
    },
    {
     "data": {
      "image/png": "[encoded data removed]",
      "text/plain": [
       "<matplotlib.figure.Figure at 0x7f1d0b95a668>"
      ]
     },
     "metadata": {},
     "output_type": "display_data"
    },
    {
     "name": "stdout",
     "output_type": "stream",
     "text": [
      "DiscLoss: 0.408, GenLoss: 3.586, RealProb: 0.841, Fake Prob: 0.090, |DParam|: 18.263, |GParam|: 29.350\n",
      "DiscLoss: 0.399, GenLoss: 3.681, RealProb: 0.845, Fake Prob: 0.088, |DParam|: 18.268, |GParam|: 29.358\n",
      "DiscLoss: 0.389, GenLoss: 3.774, RealProb: 0.848, Fake Prob: 0.086, |DParam|: 18.273, |GParam|: 29.362\n",
      "DiscLoss: 0.381, GenLoss: 3.869, RealProb: 0.852, Fake Prob: 0.084, |DParam|: 18.278, |GParam|: 29.366\n",
      "DiscLoss: 0.372, GenLoss: 3.966, RealProb: 0.855, Fake Prob: 0.082, |DParam|: 18.282, |GParam|: 29.369\n",
      "DiscLoss: 0.364, GenLoss: 4.064, RealProb: 0.858, Fake Prob: 0.080, |DParam|: 18.285, |GParam|: 29.371\n",
      "DiscLoss: 0.356, GenLoss: 4.156, RealProb: 0.861, Fake Prob: 0.078, |DParam|: 18.288, |GParam|: 29.366\n",
      "DiscLoss: 0.349, GenLoss: 4.238, RealProb: 0.864, Fake Prob: 0.077, |DParam|: 18.291, |GParam|: 29.354\n",
      "DiscLoss: 0.342, GenLoss: 4.303, RealProb: 0.867, Fake Prob: 0.075, |DParam|: 18.296, |GParam|: 29.351\n",
      "DiscLoss: 0.335, GenLoss: 4.369, RealProb: 0.869, Fake Prob: 0.074, |DParam|: 18.303, |GParam|: 29.350\n"
     ]
    },
    {
     "data": {
      "image/png": "[encoded data removed]",
      "text/plain": [
       "<matplotlib.figure.Figure at 0x7f1d0ba64d68>"
      ]
     },
     "metadata": {},
     "output_type": "display_data"
    },
    {
     "name": "stdout",
     "output_type": "stream",
     "text": [
      "DiscLoss: 0.329, GenLoss: 4.446, RealProb: 0.872, Fake Prob: 0.072, |DParam|: 18.308, |GParam|: 29.348\n",
      "DiscLoss: 0.322, GenLoss: 4.523, RealProb: 0.874, Fake Prob: 0.071, |DParam|: 18.312, |GParam|: 29.333\n",
      "DiscLoss: 0.316, GenLoss: 4.577, RealProb: 0.877, Fake Prob: 0.070, |DParam|: 18.318, |GParam|: 29.314\n",
      "DiscLoss: 0.311, GenLoss: 4.621, RealProb: 0.879, Fake Prob: 0.068, |DParam|: 18.327, |GParam|: 29.295\n",
      "DiscLoss: 0.305, GenLoss: 4.658, RealProb: 0.881, Fake Prob: 0.067, |DParam|: 18.340, |GParam|: 29.275\n",
      "DiscLoss: 0.300, GenLoss: 4.653, RealProb: 0.883, Fake Prob: 0.066, |DParam|: 18.400, |GParam|: 29.294\n",
      "DiscLoss: 0.296, GenLoss: 4.641, RealProb: 0.885, Fake Prob: 0.066, |DParam|: 18.544, |GParam|: 29.470\n",
      "DiscLoss: 0.296, GenLoss: 4.619, RealProb: 0.885, Fake Prob: 0.066, |DParam|: 18.665, |GParam|: 29.802\n",
      "DiscLoss: 0.297, GenLoss: 4.586, RealProb: 0.885, Fake Prob: 0.066, |DParam|: 18.736, |GParam|: 30.111\n",
      "DiscLoss: 0.310, GenLoss: 4.537, RealProb: 0.882, Fake Prob: 0.069, |DParam|: 18.806, |GParam|: 30.359\n"
     ]
    },
    {
     "data": {
      "image/png": "[encoded data removed]",
      "text/plain": [
       "<matplotlib.figure.Figure at 0x7f1d0bb3fe80>"
      ]
     },
     "metadata": {},
     "output_type": "display_data"
    },
    {
     "name": "stdout",
     "output_type": "stream",
     "text": [
      "DiscLoss: 0.395, GenLoss: 4.479, RealProb: 0.868, Fake Prob: 0.074, |DParam|: 18.806, |GParam|: 30.658\n",
      "DiscLoss: 0.449, GenLoss: 4.426, RealProb: 0.855, Fake Prob: 0.078, |DParam|: 18.756, |GParam|: 30.899\n",
      "DiscLoss: 0.460, GenLoss: 4.380, RealProb: 0.849, Fake Prob: 0.080, |DParam|: 18.796, |GParam|: 31.018\n",
      "DiscLoss: 0.459, GenLoss: 4.348, RealProb: 0.847, Fake Prob: 0.081, |DParam|: 18.868, |GParam|: 31.066\n",
      "DiscLoss: 0.455, GenLoss: 4.330, RealProb: 0.848, Fake Prob: 0.080, |DParam|: 18.929, |GParam|: 31.089\n",
      "DiscLoss: 0.449, GenLoss: 4.323, RealProb: 0.849, Fake Prob: 0.079, |DParam|: 18.970, |GParam|: 31.102\n",
      "DiscLoss: 0.443, GenLoss: 4.323, RealProb: 0.851, Fake Prob: 0.078, |DParam|: 18.996, |GParam|: 31.107\n",
      "DiscLoss: 0.437, GenLoss: 4.328, RealProb: 0.853, Fake Prob: 0.077, |DParam|: 19.013, |GParam|: 31.111\n",
      "DiscLoss: 0.431, GenLoss: 4.337, RealProb: 0.855, Fake Prob: 0.076, |DParam|: 19.026, |GParam|: 31.114\n",
      "DiscLoss: 0.425, GenLoss: 4.347, RealProb: 0.857, Fake Prob: 0.075, |DParam|: 19.036, |GParam|: 31.117\n"
     ]
    },
    {
     "data": {
      "image/png": "[encoded data removed]",
      "text/plain": [
       "<matplotlib.figure.Figure at 0x7f1d0be26c88>"
      ]
     },
     "metadata": {},
     "output_type": "display_data"
    },
    {
     "name": "stdout",
     "output_type": "stream",
     "text": [
      "DiscLoss: 0.419, GenLoss: 4.359, RealProb: 0.859, Fake Prob: 0.074, |DParam|: 19.045, |GParam|: 31.119\n",
      "DiscLoss: 0.414, GenLoss: 4.373, RealProb: 0.861, Fake Prob: 0.073, |DParam|: 19.053, |GParam|: 31.119\n",
      "DiscLoss: 0.408, GenLoss: 4.389, RealProb: 0.863, Fake Prob: 0.072, |DParam|: 19.060, |GParam|: 31.120\n",
      "DiscLoss: 0.403, GenLoss: 4.405, RealProb: 0.864, Fake Prob: 0.071, |DParam|: 19.066, |GParam|: 31.119\n",
      "DiscLoss: 0.398, GenLoss: 4.423, RealProb: 0.866, Fake Prob: 0.070, |DParam|: 19.072, |GParam|: 31.117\n",
      "DiscLoss: 0.392, GenLoss: 4.442, RealProb: 0.868, Fake Prob: 0.069, |DParam|: 19.077, |GParam|: 31.115\n",
      "DiscLoss: 0.387, GenLoss: 4.461, RealProb: 0.869, Fake Prob: 0.069, |DParam|: 19.081, |GParam|: 31.112\n",
      "DiscLoss: 0.383, GenLoss: 4.479, RealProb: 0.871, Fake Prob: 0.068, |DParam|: 19.086, |GParam|: 31.108\n",
      "DiscLoss: 0.378, GenLoss: 4.497, RealProb: 0.873, Fake Prob: 0.067, |DParam|: 19.091, |GParam|: 31.106\n",
      "DiscLoss: 0.373, GenLoss: 4.514, RealProb: 0.874, Fake Prob: 0.066, |DParam|: 19.095, |GParam|: 31.101\n"
     ]
    },
    {
     "data": {
      "image/png": "[encoded data removed]",
      "text/plain": [
       "<matplotlib.figure.Figure at 0x7f1d0baaf5c0>"
      ]
     },
     "metadata": {},
     "output_type": "display_data"
    },
    {
     "name": "stdout",
     "output_type": "stream",
     "text": [
      "DiscLoss: 0.369, GenLoss: 4.530, RealProb: 0.876, Fake Prob: 0.065, |DParam|: 19.100, |GParam|: 31.098\n",
      "DiscLoss: 0.364, GenLoss: 4.546, RealProb: 0.877, Fake Prob: 0.065, |DParam|: 19.104, |GParam|: 31.095\n",
      "DiscLoss: 0.360, GenLoss: 4.562, RealProb: 0.879, Fake Prob: 0.064, |DParam|: 19.108, |GParam|: 31.095\n"
     ]
    },
    {
     "ename": "KeyboardInterrupt",
     "evalue": "",
     "output_type": "error",
     "traceback": [
      "\u001b[0;31m---------------------------------------------------------------------------\u001b[0m",
      "\u001b[0;31mKeyboardInterrupt\u001b[0m                         Traceback (most recent call last)",
      "\u001b[0;32m<ipython-input-68-f4d26b0848e2>\u001b[0m in \u001b[0;36m<module>\u001b[0;34m()\u001b[0m\n\u001b[1;32m     20\u001b[0m         \u001b[0mD_loss\u001b[0m \u001b[0;34m=\u001b[0m \u001b[0;34m-\u001b[0m\u001b[0;34m(\u001b[0m\u001b[0mreal_prob\u001b[0m\u001b[0;34m.\u001b[0m\u001b[0mlog\u001b[0m\u001b[0;34m(\u001b[0m\u001b[0;34m)\u001b[0m\u001b[0;34m.\u001b[0m\u001b[0mmean\u001b[0m\u001b[0;34m(\u001b[0m\u001b[0;34m)\u001b[0m \u001b[0;34m+\u001b[0m \u001b[0;34m(\u001b[0m\u001b[0;36m1\u001b[0m\u001b[0;34m-\u001b[0m\u001b[0mfake_prob\u001b[0m\u001b[0;34m)\u001b[0m\u001b[0;34m.\u001b[0m\u001b[0mlog\u001b[0m\u001b[0;34m(\u001b[0m\u001b[0;34m)\u001b[0m\u001b[0;34m.\u001b[0m\u001b[0mmean\u001b[0m\u001b[0;34m(\u001b[0m\u001b[0;34m)\u001b[0m\u001b[0;34m)\u001b[0m\u001b[0;34m\u001b[0m\u001b[0m\n\u001b[1;32m     21\u001b[0m         \u001b[0mD_optim\u001b[0m\u001b[0;34m.\u001b[0m\u001b[0mzero_grad\u001b[0m\u001b[0;34m(\u001b[0m\u001b[0;34m)\u001b[0m\u001b[0;34m\u001b[0m\u001b[0m\n\u001b[0;32m---> 22\u001b[0;31m         \u001b[0mD_loss\u001b[0m\u001b[0;34m.\u001b[0m\u001b[0mbackward\u001b[0m\u001b[0;34m(\u001b[0m\u001b[0mretain_graph\u001b[0m\u001b[0;34m=\u001b[0m\u001b[0;32mTrue\u001b[0m\u001b[0;34m)\u001b[0m\u001b[0;34m\u001b[0m\u001b[0m\n\u001b[0m\u001b[1;32m     23\u001b[0m         \u001b[0mD_optim\u001b[0m\u001b[0;34m.\u001b[0m\u001b[0mstep\u001b[0m\u001b[0;34m(\u001b[0m\u001b[0;34m)\u001b[0m\u001b[0;34m\u001b[0m\u001b[0m\n\u001b[1;32m     24\u001b[0m \u001b[0;34m\u001b[0m\u001b[0m\n",
      "\u001b[0;32m~/anaconda3/lib/python3.6/site-packages/torch/autograd/variable.py\u001b[0m in \u001b[0;36mbackward\u001b[0;34m(self, gradient, retain_graph, create_graph, retain_variables)\u001b[0m\n\u001b[1;32m    165\u001b[0m                 \u001b[0mVariable\u001b[0m\u001b[0;34m.\u001b[0m\u001b[0;34m\u001b[0m\u001b[0m\n\u001b[1;32m    166\u001b[0m         \"\"\"\n\u001b[0;32m--> 167\u001b[0;31m         \u001b[0mtorch\u001b[0m\u001b[0;34m.\u001b[0m\u001b[0mautograd\u001b[0m\u001b[0;34m.\u001b[0m\u001b[0mbackward\u001b[0m\u001b[0;34m(\u001b[0m\u001b[0mself\u001b[0m\u001b[0;34m,\u001b[0m \u001b[0mgradient\u001b[0m\u001b[0;34m,\u001b[0m \u001b[0mretain_graph\u001b[0m\u001b[0;34m,\u001b[0m \u001b[0mcreate_graph\u001b[0m\u001b[0;34m,\u001b[0m \u001b[0mretain_variables\u001b[0m\u001b[0;34m)\u001b[0m\u001b[0;34m\u001b[0m\u001b[0m\n\u001b[0m\u001b[1;32m    168\u001b[0m \u001b[0;34m\u001b[0m\u001b[0m\n\u001b[1;32m    169\u001b[0m     \u001b[0;32mdef\u001b[0m \u001b[0mregister_hook\u001b[0m\u001b[0;34m(\u001b[0m\u001b[0mself\u001b[0m\u001b[0;34m,\u001b[0m \u001b[0mhook\u001b[0m\u001b[0;34m)\u001b[0m\u001b[0;34m:\u001b[0m\u001b[0;34m\u001b[0m\u001b[0m\n",
      "\u001b[0;32m~/anaconda3/lib/python3.6/site-packages/torch/autograd/__init__.py\u001b[0m in \u001b[0;36mbackward\u001b[0;34m(variables, grad_variables, retain_graph, create_graph, retain_variables)\u001b[0m\n\u001b[1;32m     97\u001b[0m \u001b[0;34m\u001b[0m\u001b[0m\n\u001b[1;32m     98\u001b[0m     Variable._execution_engine.run_backward(\n\u001b[0;32m---> 99\u001b[0;31m         variables, grad_variables, retain_graph)\n\u001b[0m\u001b[1;32m    100\u001b[0m \u001b[0;34m\u001b[0m\u001b[0m\n\u001b[1;32m    101\u001b[0m \u001b[0;34m\u001b[0m\u001b[0m\n",
      "\u001b[0;31mKeyboardInterrupt\u001b[0m: "
     ]
    }
   ],
   "source": [
    "avg_D_loss = 0\n",
    "avg_G_loss = 0\n",
    "avg_real_prob = 0\n",
    "avg_fake_prob = 0\n",
    "eps = 1e-5\n",
    "i = 0\n",
    "for epoch in range(epochs):\n",
    "    for datum in train_loader:\n",
    "        i += 1\n",
    "        img, _ = datum\n",
    "        real = torch.autograd.Variable(img.view(img.size(0), -1).float())\n",
    "        z = torch.autograd.Variable(torch.randn(BATCH_SIZE, latent_dim))        \n",
    "        fake = G(z)                \n",
    "        real_prob = torch.clamp(D(real), min = eps, max = 1-eps)\n",
    "        fake_prob = torch.clamp(D(fake), min = eps, max = 1-eps)\n",
    "        D_loss = -(real_prob.log().mean() + (1-fake_prob).log().mean())\n",
    "        D_optim.zero_grad()                \n",
    "        D_loss.backward(retain_graph=True)\n",
    "        D_optim.step()\n",
    "\n",
    "        G_optim.zero_grad()        \n",
    "        G_loss = -fake_prob.log().mean()\n",
    "        G_optim.zero_grad()\n",
    "        G_loss.backward()\n",
    "        G_optim.step()\n",
    "        \n",
    "        avg_real_prob += real_prob.data.mean()\n",
    "        avg_fake_prob += fake_prob.data.mean()\n",
    "        avg_D_loss += D_loss.data[0]\n",
    "        avg_G_loss += G_loss.data[0]\n",
    "        D_param = sum([p.data.norm()**2 for p in D.parameters()])**0.5\n",
    "        G_param = sum([p.data.norm()**2 for p in G.parameters()])**0.5\n",
    "        \n",
    "        if i % 10 == 0:\n",
    "            print((\"DiscLoss: %.3f, GenLoss: %.3f, RealProb: %.3f, Fake Prob: %.3f, |DParam|: %.3f, |GParam|: %.3f\") %\n",
    "                 (avg_D_loss/i, avg_G_loss/i, avg_real_prob/i, avg_fake_prob/i, D_param, G_param))\n",
    "            if i % 100 == 0:\n",
    "                plt.imshow(fake[0].data.view(28,28).numpy(), cmap='gray')\n",
    "                plt.show()\n",
    "            \n",
    "    "
   ]
  },
  {
   "cell_type": "code",
   "execution_count": 115,
   "metadata": {},
   "outputs": [
    {
     "name": "stdout",
     "output_type": "stream",
     "text": [
      "Iter: 10, DiscLoss: 1.369, GenLoss: 0.717, RealProb: 0.497, Fake Prob: 0.488, |DParam|: 15.055, |GParam|: 15.194, Temp: 0.9990\n",
      "Iter: 20, DiscLoss: 1.338, GenLoss: 0.746, RealProb: 0.499, Fake Prob: 0.474, |DParam|: 15.101, |GParam|: 15.540, Temp: 0.9980\n",
      "Iter: 30, DiscLoss: 1.280, GenLoss: 0.808, RealProb: 0.505, Fake Prob: 0.448, |DParam|: 15.188, |GParam|: 16.491, Temp: 0.9970\n",
      "Iter: 40, DiscLoss: 1.185, GenLoss: 0.937, RealProb: 0.519, Fake Prob: 0.403, |DParam|: 15.324, |GParam|: 18.346, Temp: 0.9960\n",
      "Iter: 50, DiscLoss: 1.059, GenLoss: 1.168, RealProb: 0.547, Fake Prob: 0.348, |DParam|: 15.501, |GParam|: 21.130, Temp: 0.9950\n",
      "Iter: 60, DiscLoss: 0.927, GenLoss: 1.467, RealProb: 0.592, Fake Prob: 0.299, |DParam|: 15.691, |GParam|: 24.393, Temp: 0.9940\n",
      "Iter: 70, DiscLoss: 0.814, GenLoss: 1.758, RealProb: 0.640, Fake Prob: 0.265, |DParam|: 15.877, |GParam|: 27.803, Temp: 0.9930\n",
      "Iter: 80, DiscLoss: 0.730, GenLoss: 2.118, RealProb: 0.677, Fake Prob: 0.240, |DParam|: 16.058, |GParam|: 31.776, Temp: 0.9920\n",
      "Iter: 90, DiscLoss: 0.674, GenLoss: 2.484, RealProb: 0.699, Fake Prob: 0.221, |DParam|: 16.217, |GParam|: 36.155, Temp: 0.9910\n",
      "Iter: 100, DiscLoss: 0.642, GenLoss: 2.744, RealProb: 0.711, Fake Prob: 0.210, |DParam|: 16.371, |GParam|: 40.161, Temp: 0.9900\n"
     ]
    },
    {
     "data": {
      "image/png": "[encoded data removed]",
      "text/plain": [
       "<matplotlib.figure.Figure at 0x7f1d0b94d048>"
      ]
     },
     "metadata": {},
     "output_type": "display_data"
    },
    {
     "name": "stdout",
     "output_type": "stream",
     "text": [
      "Iter: 110, DiscLoss: 0.622, GenLoss: 2.902, RealProb: 0.718, Fake Prob: 0.202, |DParam|: 16.509, |GParam|: 43.477, Temp: 0.9890\n",
      "Iter: 120, DiscLoss: 0.613, GenLoss: 3.012, RealProb: 0.719, Fake Prob: 0.196, |DParam|: 16.621, |GParam|: 46.100, Temp: 0.9880\n",
      "Iter: 130, DiscLoss: 0.614, GenLoss: 3.056, RealProb: 0.717, Fake Prob: 0.193, |DParam|: 16.714, |GParam|: 48.191, Temp: 0.9870\n",
      "Iter: 140, DiscLoss: 0.625, GenLoss: 3.045, RealProb: 0.712, Fake Prob: 0.193, |DParam|: 16.800, |GParam|: 49.987, Temp: 0.9860\n",
      "Iter: 150, DiscLoss: 0.651, GenLoss: 3.006, RealProb: 0.702, Fake Prob: 0.195, |DParam|: 16.875, |GParam|: 51.556, Temp: 0.9850\n",
      "Iter: 160, DiscLoss: 0.681, GenLoss: 2.946, RealProb: 0.692, Fake Prob: 0.199, |DParam|: 16.938, |GParam|: 52.806, Temp: 0.9840\n",
      "Iter: 170, DiscLoss: 0.700, GenLoss: 2.881, RealProb: 0.685, Fake Prob: 0.202, |DParam|: 17.010, |GParam|: 53.860, Temp: 0.9830\n",
      "Iter: 180, DiscLoss: 0.711, GenLoss: 2.824, RealProb: 0.681, Fake Prob: 0.204, |DParam|: 17.087, |GParam|: 54.746, Temp: 0.9820\n",
      "Iter: 190, DiscLoss: 0.717, GenLoss: 2.760, RealProb: 0.680, Fake Prob: 0.205, |DParam|: 17.169, |GParam|: 55.665, Temp: 0.9810\n",
      "Iter: 200, DiscLoss: 0.724, GenLoss: 2.700, RealProb: 0.678, Fake Prob: 0.205, |DParam|: 17.244, |GParam|: 56.586, Temp: 0.9800\n"
     ]
    },
    {
     "data": {
      "image/png": "[encoded data removed]",
      "text/plain": [
       "<matplotlib.figure.Figure at 0x7f1d018a71d0>"
      ]
     },
     "metadata": {},
     "output_type": "display_data"
    },
    {
     "name": "stdout",
     "output_type": "stream",
     "text": [
      "Iter: 210, DiscLoss: 0.729, GenLoss: 2.650, RealProb: 0.677, Fake Prob: 0.205, |DParam|: 17.313, |GParam|: 57.416, Temp: 0.9790\n",
      "Iter: 220, DiscLoss: 0.733, GenLoss: 2.601, RealProb: 0.676, Fake Prob: 0.205, |DParam|: 17.373, |GParam|: 58.137, Temp: 0.9780\n",
      "Iter: 230, DiscLoss: 0.740, GenLoss: 2.556, RealProb: 0.675, Fake Prob: 0.205, |DParam|: 17.425, |GParam|: 58.781, Temp: 0.9770\n",
      "Iter: 240, DiscLoss: 0.747, GenLoss: 2.514, RealProb: 0.674, Fake Prob: 0.206, |DParam|: 17.467, |GParam|: 59.349, Temp: 0.9760\n",
      "Iter: 250, DiscLoss: 0.750, GenLoss: 2.478, RealProb: 0.674, Fake Prob: 0.206, |DParam|: 17.507, |GParam|: 59.824, Temp: 0.9750\n",
      "Iter: 260, DiscLoss: 0.745, GenLoss: 2.455, RealProb: 0.677, Fake Prob: 0.204, |DParam|: 17.547, |GParam|: 60.216, Temp: 0.9740\n",
      "Iter: 270, DiscLoss: 0.738, GenLoss: 2.440, RealProb: 0.681, Fake Prob: 0.202, |DParam|: 17.585, |GParam|: 60.559, Temp: 0.9730\n",
      "Iter: 280, DiscLoss: 0.728, GenLoss: 2.436, RealProb: 0.686, Fake Prob: 0.199, |DParam|: 17.621, |GParam|: 60.856, Temp: 0.9720\n",
      "Iter: 290, DiscLoss: 0.717, GenLoss: 2.436, RealProb: 0.691, Fake Prob: 0.196, |DParam|: 17.655, |GParam|: 61.108, Temp: 0.9710\n",
      "Iter: 300, DiscLoss: 0.708, GenLoss: 2.438, RealProb: 0.695, Fake Prob: 0.193, |DParam|: 17.690, |GParam|: 61.347, Temp: 0.9700\n"
     ]
    },
    {
     "data": {
      "image/png": "[encoded data removed]",
      "text/plain": [
       "<matplotlib.figure.Figure at 0x7f1d0be2cf60>"
      ]
     },
     "metadata": {},
     "output_type": "display_data"
    },
    {
     "name": "stdout",
     "output_type": "stream",
     "text": [
      "Iter: 310, DiscLoss: 0.698, GenLoss: 2.442, RealProb: 0.700, Fake Prob: 0.190, |DParam|: 17.728, |GParam|: 61.589, Temp: 0.9690\n",
      "Iter: 320, DiscLoss: 0.689, GenLoss: 2.447, RealProb: 0.704, Fake Prob: 0.188, |DParam|: 17.765, |GParam|: 61.834, Temp: 0.9680\n",
      "Iter: 330, DiscLoss: 0.676, GenLoss: 2.458, RealProb: 0.709, Fake Prob: 0.184, |DParam|: 17.802, |GParam|: 62.060, Temp: 0.9670\n",
      "Iter: 340, DiscLoss: 0.663, GenLoss: 2.477, RealProb: 0.715, Fake Prob: 0.181, |DParam|: 17.839, |GParam|: 62.251, Temp: 0.9660\n",
      "Iter: 350, DiscLoss: 0.649, GenLoss: 2.506, RealProb: 0.721, Fake Prob: 0.177, |DParam|: 17.875, |GParam|: 62.418, Temp: 0.9650\n",
      "Iter: 360, DiscLoss: nan, GenLoss: nan, RealProb: 0.726, Fake Prob: nan, |DParam|: nan, |GParam|: nan, Temp: 0.9640\n",
      "Iter: 370, DiscLoss: nan, GenLoss: nan, RealProb: nan, Fake Prob: nan, |DParam|: nan, |GParam|: nan, Temp: 0.9630\n",
      "Iter: 380, DiscLoss: nan, GenLoss: nan, RealProb: nan, Fake Prob: nan, |DParam|: nan, |GParam|: nan, Temp: 0.9620\n",
      "Iter: 390, DiscLoss: nan, GenLoss: nan, RealProb: nan, Fake Prob: nan, |DParam|: nan, |GParam|: nan, Temp: 0.9610\n",
      "Iter: 400, DiscLoss: nan, GenLoss: nan, RealProb: nan, Fake Prob: nan, |DParam|: nan, |GParam|: nan, Temp: 0.9600\n"
     ]
    },
    {
     "ename": "RuntimeError",
     "evalue": "invalid argument 1: must be >= 0 and <= 1 at /opt/conda/conda-bld/pytorch_1513368888240/work/torch/lib/TH/THRandom.c:300",
     "output_type": "error",
     "traceback": [
      "\u001b[0;31m---------------------------------------------------------------------------\u001b[0m",
      "\u001b[0;31mRuntimeError\u001b[0m                              Traceback (most recent call last)",
      "\u001b[0;32m<ipython-input-115-be3bb9349feb>\u001b[0m in \u001b[0;36m<module>\u001b[0;34m()\u001b[0m\n\u001b[1;32m     63\u001b[0m             \u001b[0;32mif\u001b[0m \u001b[0mi\u001b[0m \u001b[0;34m%\u001b[0m \u001b[0;36m100\u001b[0m \u001b[0;34m==\u001b[0m \u001b[0;36m0\u001b[0m\u001b[0;34m:\u001b[0m\u001b[0;34m\u001b[0m\u001b[0m\n\u001b[1;32m     64\u001b[0m                 \u001b[0mf\u001b[0m\u001b[0;34m,\u001b[0m \u001b[0;34m(\u001b[0m\u001b[0max1\u001b[0m\u001b[0;34m,\u001b[0m \u001b[0max2\u001b[0m\u001b[0;34m,\u001b[0m \u001b[0max3\u001b[0m\u001b[0;34m,\u001b[0m \u001b[0max4\u001b[0m\u001b[0;34m,\u001b[0m \u001b[0max5\u001b[0m\u001b[0;34m)\u001b[0m \u001b[0;34m=\u001b[0m \u001b[0mplt\u001b[0m\u001b[0;34m.\u001b[0m\u001b[0msubplots\u001b[0m\u001b[0;34m(\u001b[0m\u001b[0;36m1\u001b[0m\u001b[0;34m,\u001b[0m\u001b[0;36m5\u001b[0m\u001b[0;34m)\u001b[0m\u001b[0;34m\u001b[0m\u001b[0m\n\u001b[0;32m---> 65\u001b[0;31m                 \u001b[0mfake\u001b[0m \u001b[0;34m=\u001b[0m \u001b[0mtorch\u001b[0m\u001b[0;34m.\u001b[0m\u001b[0mbernoulli\u001b[0m\u001b[0;34m(\u001b[0m\u001b[0mfake\u001b[0m\u001b[0;34m)\u001b[0m\u001b[0;34m\u001b[0m\u001b[0m\n\u001b[0m\u001b[1;32m     66\u001b[0m                 \u001b[0max1\u001b[0m\u001b[0;34m.\u001b[0m\u001b[0mimshow\u001b[0m\u001b[0;34m(\u001b[0m\u001b[0mfake\u001b[0m\u001b[0;34m[\u001b[0m\u001b[0;36m0\u001b[0m\u001b[0;34m]\u001b[0m\u001b[0;34m.\u001b[0m\u001b[0mdata\u001b[0m\u001b[0;34m.\u001b[0m\u001b[0mview\u001b[0m\u001b[0;34m(\u001b[0m\u001b[0;36m28\u001b[0m\u001b[0;34m,\u001b[0m\u001b[0;36m28\u001b[0m\u001b[0;34m)\u001b[0m\u001b[0;34m.\u001b[0m\u001b[0mnumpy\u001b[0m\u001b[0;34m(\u001b[0m\u001b[0;34m)\u001b[0m\u001b[0;34m,\u001b[0m \u001b[0mcmap\u001b[0m\u001b[0;34m=\u001b[0m\u001b[0;34m'gray'\u001b[0m\u001b[0;34m)\u001b[0m\u001b[0;34m\u001b[0m\u001b[0m\n\u001b[1;32m     67\u001b[0m                 \u001b[0max2\u001b[0m\u001b[0;34m.\u001b[0m\u001b[0mimshow\u001b[0m\u001b[0;34m(\u001b[0m\u001b[0mfake\u001b[0m\u001b[0;34m[\u001b[0m\u001b[0;36m1\u001b[0m\u001b[0;34m]\u001b[0m\u001b[0;34m.\u001b[0m\u001b[0mdata\u001b[0m\u001b[0;34m.\u001b[0m\u001b[0mview\u001b[0m\u001b[0;34m(\u001b[0m\u001b[0;36m28\u001b[0m\u001b[0;34m,\u001b[0m\u001b[0;36m28\u001b[0m\u001b[0;34m)\u001b[0m\u001b[0;34m.\u001b[0m\u001b[0mnumpy\u001b[0m\u001b[0;34m(\u001b[0m\u001b[0;34m)\u001b[0m\u001b[0;34m,\u001b[0m \u001b[0mcmap\u001b[0m\u001b[0;34m=\u001b[0m\u001b[0;34m'gray'\u001b[0m\u001b[0;34m)\u001b[0m\u001b[0;34m\u001b[0m\u001b[0m\n",
      "\u001b[0;32m~/anaconda3/lib/python3.6/site-packages/torch/autograd/variable.py\u001b[0m in \u001b[0;36mbernoulli\u001b[0;34m(self)\u001b[0m\n\u001b[1;32m    437\u001b[0m \u001b[0;34m\u001b[0m\u001b[0m\n\u001b[1;32m    438\u001b[0m     \u001b[0;32mdef\u001b[0m \u001b[0mbernoulli\u001b[0m\u001b[0;34m(\u001b[0m\u001b[0mself\u001b[0m\u001b[0;34m)\u001b[0m\u001b[0;34m:\u001b[0m\u001b[0;34m\u001b[0m\u001b[0m\n\u001b[0;32m--> 439\u001b[0;31m         \u001b[0;32mreturn\u001b[0m \u001b[0mBernoulli\u001b[0m\u001b[0;34m.\u001b[0m\u001b[0mapply\u001b[0m\u001b[0;34m(\u001b[0m\u001b[0mself\u001b[0m\u001b[0;34m)\u001b[0m\u001b[0;34m\u001b[0m\u001b[0m\n\u001b[0m\u001b[1;32m    440\u001b[0m \u001b[0;34m\u001b[0m\u001b[0m\n\u001b[1;32m    441\u001b[0m     \u001b[0;32mdef\u001b[0m \u001b[0m__rsub__\u001b[0m\u001b[0;34m(\u001b[0m\u001b[0mself\u001b[0m\u001b[0;34m,\u001b[0m \u001b[0mother\u001b[0m\u001b[0;34m)\u001b[0m\u001b[0;34m:\u001b[0m\u001b[0;34m\u001b[0m\u001b[0m\n",
      "\u001b[0;32m~/anaconda3/lib/python3.6/site-packages/torch/autograd/_functions/stochastic.py\u001b[0m in \u001b[0;36mforward\u001b[0;34m(ctx, probs)\u001b[0m\n\u001b[1;32m     18\u001b[0m     \u001b[0;34m@\u001b[0m\u001b[0mstaticmethod\u001b[0m\u001b[0;34m\u001b[0m\u001b[0m\n\u001b[1;32m     19\u001b[0m     \u001b[0;32mdef\u001b[0m \u001b[0mforward\u001b[0m\u001b[0;34m(\u001b[0m\u001b[0mctx\u001b[0m\u001b[0;34m,\u001b[0m \u001b[0mprobs\u001b[0m\u001b[0;34m)\u001b[0m\u001b[0;34m:\u001b[0m\u001b[0;34m\u001b[0m\u001b[0m\n\u001b[0;32m---> 20\u001b[0;31m         \u001b[0msamples\u001b[0m \u001b[0;34m=\u001b[0m \u001b[0mprobs\u001b[0m\u001b[0;34m.\u001b[0m\u001b[0mnew\u001b[0m\u001b[0;34m(\u001b[0m\u001b[0;34m)\u001b[0m\u001b[0;34m.\u001b[0m\u001b[0mresize_as_\u001b[0m\u001b[0;34m(\u001b[0m\u001b[0mprobs\u001b[0m\u001b[0;34m)\u001b[0m\u001b[0;34m.\u001b[0m\u001b[0mbernoulli_\u001b[0m\u001b[0;34m(\u001b[0m\u001b[0mprobs\u001b[0m\u001b[0;34m)\u001b[0m\u001b[0;34m\u001b[0m\u001b[0m\n\u001b[0m\u001b[1;32m     21\u001b[0m         \u001b[0mctx\u001b[0m\u001b[0;34m.\u001b[0m\u001b[0mmark_non_differentiable\u001b[0m\u001b[0;34m(\u001b[0m\u001b[0msamples\u001b[0m\u001b[0;34m)\u001b[0m\u001b[0;34m\u001b[0m\u001b[0m\n\u001b[1;32m     22\u001b[0m         \u001b[0;32mreturn\u001b[0m \u001b[0msamples\u001b[0m\u001b[0;34m\u001b[0m\u001b[0m\n",
      "\u001b[0;31mRuntimeError\u001b[0m: invalid argument 1: must be >= 0 and <= 1 at /opt/conda/conda-bld/pytorch_1513368888240/work/torch/lib/TH/THRandom.c:300"
     ]
    }
   ],
   "source": [
    "plt.rcParams['figure.figsize'] = 6, 6\n",
    "latent_dim = 32\n",
    "lr = 0.0002\n",
    "epochs = 100\n",
    "temp = 1.\n",
    "D = nn.Sequential(nn.Linear(784, 512), nn.LeakyReLU(0.2),\n",
    "                  nn.Linear(512, 256), nn.LeakyReLU(0.2),\n",
    "                  nn.Linear(256, 128), nn.LeakyReLU(0.2),                  \n",
    "                  nn.Linear(128, 1), nn.Sigmoid())\n",
    "G = nn.Sequential(nn.Linear(latent_dim, 128), nn.BatchNorm1d(128), nn.LeakyReLU(0.2),\n",
    "                    nn.Linear(128, 256), nn.BatchNorm1d(256), nn.LeakyReLU(0.2),\n",
    "                     nn.Linear(256, 512), nn.BatchNorm1d(512), nn.LeakyReLU(0.2),\n",
    "                     nn.Linear(512, 784))\n",
    "#, nn.LeakyReLU(0.2),\n",
    "#                 nn.Linear(256, 512), nn.LeakyReLU(0.2),\n",
    "#                 nn.Linear(512, 784))\n",
    "for p in list(D.parameters()) + list(G.parameters()):\n",
    "    p.data.normal_(0, 0.02)\n",
    "    \n",
    "D_optim = torch.optim.Adam(D.parameters(), lr = 0.0001)\n",
    "G_optim = torch.optim.Adam(G.parameters(), lr = 0.0005)\n",
    "\n",
    "avg_D_loss = 0\n",
    "avg_G_loss = 0\n",
    "avg_real_prob = 0\n",
    "avg_fake_prob = 0\n",
    "eps = 1e-5\n",
    "i = 0\n",
    "for epoch in range(epochs):\n",
    "    for datum in train_loader:\n",
    "        i += 1\n",
    "        temp = max(0.001, temp - 0.0001)\n",
    "        img, _ = datum\n",
    "        real = torch.autograd.Variable(img.view(img.size(0), -1).float())\n",
    "        z = torch.autograd.Variable(torch.randn(BATCH_SIZE, latent_dim).uniform_(-1, 1))         \n",
    "        u = torch.autograd.Variable(torch.zeros(BATCH_SIZE, 784).uniform_(0, 1))\n",
    "        l = u.log() + (1-u).log()        \n",
    "        fake = G(z)                \n",
    "        real_prob = torch.clamp(D(real), min = eps, max = 1-eps)\n",
    "        fake_prob = torch.clamp(D(fake), min = eps, max = 1-eps)\n",
    "        D_loss = -(real_prob.log().mean() + (1-fake_prob).log().mean())\n",
    "        D_optim.zero_grad()                \n",
    "        D_loss.backward(retain_graph=True)\n",
    "        D_optim.step()\n",
    "\n",
    "        G_optim.zero_grad()        \n",
    "        G_loss = -fake_prob.log().mean()\n",
    "        G_optim.zero_grad()\n",
    "        G_loss.backward()\n",
    "        G_optim.step()\n",
    "        \n",
    "        avg_real_prob += real_prob.data.mean()\n",
    "        avg_fake_prob += fake_prob.data.mean()\n",
    "        avg_D_loss += D_loss.data[0]\n",
    "        avg_G_loss += G_loss.data[0]\n",
    "        D_param = sum([p.data.norm()**2 for p in D.parameters()])**0.5\n",
    "        G_param = sum([p.data.norm()**2 for p in G.parameters()])**0.5\n",
    "        \n",
    "        if i % 10 == 0:\n",
    "            print((\"Iter: %d, DiscLoss: %.3f, GenLoss: %.3f, RealProb: %.3f, Fake Prob: %.3f, |DParam|: %.3f, |GParam|: %.3f, Temp: %.4f\") %\n",
    "                 (i, avg_D_loss/i, avg_G_loss/i, avg_real_prob/i, avg_fake_prob/i, D_param, G_param, temp))\n",
    "            if i % 100 == 0:\n",
    "                f, (ax1, ax2, ax3, ax4, ax5) = plt.subplots(1,5)\n",
    "                fake = torch.bernoulli(fake)\n",
    "                ax1.imshow(fake[0].data.view(28,28).numpy(), cmap='gray')\n",
    "                ax2.imshow(fake[1].data.view(28,28).numpy(), cmap='gray')\n",
    "                ax3.imshow(fake[2].data.view(28,28).numpy(), cmap='gray')\n",
    "                ax4.imshow(fake[3].data.view(28,28).numpy(), cmap='gray')\n",
    "                ax5.imshow(fake[4].data.view(28,28).numpy(), cmap='gray')            \n",
    "                plt.show()\n",
    "                \n",
    "                #plt.imshow(fake[0].data.view(28,28).numpy(), cmap='gray')\n",
    "                \n",
    "                #plt.imshow(fake[1].data.view(28,28).numpy(), cmap='gray')\n",
    "                #plt.show()\n",
    "            "
   ]
  },
  {
   "cell_type": "markdown",
   "metadata": {},
   "source": [
    "where $\\mathbf{h}$ is the final layer of the generative model (i.e. 28*28 = 784 dimensionval vector), and $\\sigma(\\cdot)$ is the sigmoid function. \n",
    "\n",
    "For the baseline model in this assignment you will be using a spherical normal prior, i.e. $p(\\mathbf{z}) = \\mathcal{N}(\\mathbf{0}, \\mathbf{I})$. The variational family will also be normal, i.e. $q(\\mathbf{z} ; \\lambda) = \\mathcal{N}(\\boldsymbol{\\mu}, \\log \\boldsymbol \\sigma^2)$ (here we will work with normal families with diagonal covariance). The KL-divergence between the variational posterior $q(\\mathbf{z})$ and the prior $p(\\mathbf{z})$ has a closed-form analytic solution, which is available in the original VAE paper referenced above. (If you are using the torch distributions package they will automatically calculate it for you, however you will need to use pytorch 0.4)."
   ]
  },
  {
   "cell_type": "markdown",
   "metadata": {},
   "source": [
    "For GANs you should use the same data in its continuous form. Here use the same prior, but use a multi-layer network to map to a continous 28x28 output space. Then use a multilayer discriminator to classify. \n",
    "\n",
    "For both models you may also consider trying a deconvolutional network (as in DCGAN) to produce output from the latent variable."
   ]
  },
  {
   "cell_type": "markdown",
   "metadata": {},
   "source": [
    "## Visualizations"
   ]
  },
  {
   "cell_type": "markdown",
   "metadata": {},
   "source": [
    "In addition to quantitative metrics (i.e. ELBO), we are also going to ask you to do some qualitative analysis via visualizations. Please include the following in your report:\n",
    "\n",
    "1. Generate a bunch of digits from your generative model (sample $\\mathbf{z} \\sim p(\\mathbf{z})$, then $\\mathbf{x} \\sim p (\\mathbf{x} \\, | \\, \\mathbf{z} ; \\theta$))\n",
    "2. Sample two random latent vectors $\\mathbf{z}_1, \\mathbf{z}_2 \\sim p(\\mathbf{z})$, then sample from their interpolated values, i.e. $\\mathbf{z} \\sim p (\\mathbf{x} \\, | \\, \\alpha\\mathbf{z}_1 + (1-\\alpha)\\mathbf{z}_2; \\theta$) for $\\alpha = \\{0, 0.2, 0.4, 0.6, 0.8 ,1.0 \\}$.\n",
    "3. Train a VAE with 2 latent dimensions. Make a scatter plot of the variational means, $\\mu_1, \\mu_2$, where the color\n",
    "corresponds to the digit.\n",
    "4. With the same model as in (3), pick a 2d grid around the origin (0,0), e.g. with\n",
    "`np.meshgrid(np.linspace(-2, 2, 10), np.linspace(-2, 2, 10)`. For each point in the grid $(z_1, z_2)$, generate\n",
    "$\\mathbf{x}$ and show the corresponding digit in the 2d plot. For an example see [here](http://fastforwardlabs.github.io/blog-images/miriam/tableau.1493x693.png) (the right image)\n"
   ]
  }
 ],
 "metadata": {
  "kernelspec": {
   "display_name": "Python 3",
   "language": "python",
   "name": "python3"
  },
  "language_info": {
   "codemirror_mode": {
    "name": "ipython",
    "version": 3
   },
   "file_extension": ".py",
   "mimetype": "text/x-python",
   "name": "python",
   "nbconvert_exporter": "python",
   "pygments_lexer": "ipython3",
   "version": "3.6.3"
  }
 },
 "nbformat": 4,
 "nbformat_minor": 2
}
